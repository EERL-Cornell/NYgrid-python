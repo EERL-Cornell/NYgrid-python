{
 "cells": [
  {
   "cell_type": "markdown",
   "metadata": {},
   "source": [
    "# Multi-period OPF example\n",
    "\n",
    "Re-create PyPower case from CSV files"
   ]
  },
  {
   "cell_type": "code",
   "execution_count": 1,
   "metadata": {
    "ExecuteTime": {
     "end_time": "2024-01-31T05:44:26.096400900Z",
     "start_time": "2024-01-31T05:44:23.739106600Z"
    }
   },
   "source": [
    "import os\n",
    "import numpy as np\n",
    "import pandas as pd\n",
    "import matplotlib.pyplot as plt\n",
    "from datetime import datetime, timedelta\n",
    "from nygrid.nygrid import NYGrid\n",
    "import pickle"
   ],
   "outputs": []
  },
  {
   "cell_type": "code",
   "execution_count": 2,
   "metadata": {
    "ExecuteTime": {
     "end_time": "2024-01-31T05:44:26.121462200Z",
     "start_time": "2024-01-31T05:44:26.097413600Z"
    }
   },
   "source": [
    "# Set up directories\n",
    "cwd = os.getcwd()\n",
    "if 'examples' in cwd:\n",
    "    parent_dir = os.path.dirname(cwd)\n",
    "    data_dir = os.path.join(parent_dir, 'data')\n",
    "else:\n",
    "    data_dir = os.path.join(cwd, 'data')\n",
    "\n",
    "grid_data_dir = os.path.join(data_dir, 'grid')\n",
    "if not os.path.exists(grid_data_dir):\n",
    "    raise FileNotFoundError('Grid data directory not found.')\n",
    "\n",
    "print('Grid data directory: {}'.format(grid_data_dir))\n",
    "\n",
    "fig_dir = os.path.join(os.path.dirname(data_dir), 'figures')\n",
    "print('Figure directory: {}'.format(fig_dir))\n",
    "\n",
    "results_dir = os.path.join(os.path.dirname(data_dir), 'results')\n",
    "print('Results directory: {}'.format(results_dir))\n",
    "\n",
    "solar_data_dir = os.path.join(data_dir, 'solar')\n",
    "print('Solar data directory: {}'.format(solar_data_dir))\n",
    "\n",
    "onshore_wind_data_dir = os.path.join(data_dir, 'onshore_wind')\n",
    "print('Onshore wind data directory: {}'.format(onshore_wind_data_dir))\n",
    "\n",
    "offshore_wind_data_dir = os.path.join(data_dir, 'offshore_wind')\n",
    "print('Offshore wind data directory: {}'.format(offshore_wind_data_dir))\n",
    "\n",
    "buildings_data_dir = os.path.join(data_dir, 'buildings')\n",
    "print('Buildings data directory: {}'.format(buildings_data_dir))"
   ],
   "outputs": []
  },
  {
   "cell_type": "markdown",
   "metadata": {},
   "source": [
    "## Read grid data"
   ]
  },
  {
   "cell_type": "markdown",
   "source": [
    "### Read generator profiles"
   ],
   "metadata": {
    "collapsed": false
   }
  },
  {
   "cell_type": "code",
   "execution_count": 3,
   "metadata": {
    "ExecuteTime": {
     "end_time": "2024-01-31T05:44:27.814195700Z",
     "start_time": "2024-01-31T05:44:26.118444100Z"
    }
   },
   "source": [
    "start_date = datetime(2018, 1, 1, 0, 0, 0)\n",
    "end_date = datetime(2019, 1, 1, 0, 0, 0)\n",
    "timestamp_list = pd.date_range(start_date, end_date, freq='1D')\n",
    "\n",
    "# Read load profile\n",
    "load_profile = pd.read_csv(os.path.join(grid_data_dir, f'load_profile_{start_date.year}.csv'), \n",
    "                           parse_dates=['TimeStamp'], index_col='TimeStamp').asfreq('H')\n",
    "\n",
    "# Read generation profile\n",
    "gen_profile = pd.read_csv(os.path.join(grid_data_dir, f'gen_profile_{start_date.year}.csv'), \n",
    "                           parse_dates=['TimeStamp'], index_col='TimeStamp').asfreq('H')\n",
    "\n",
    "# Read generator capacity limit profile\n",
    "genmax_profile = pd.read_csv(os.path.join(grid_data_dir, f'genmax_profile_{start_date.year}.csv'), \n",
    "                           parse_dates=['TimeStamp'], index_col='TimeStamp').asfreq('H')\n",
    "\n",
    "genmin_profile = pd.read_csv(os.path.join(grid_data_dir, f'genmin_profile_{start_date.year}.csv'), \n",
    "                           parse_dates=['TimeStamp'], index_col='TimeStamp').asfreq('H')\n",
    "\n",
    "# Read generator ramp rate profile\n",
    "genramp30_profile = pd.read_csv(os.path.join(grid_data_dir, f'genramp30_profile_{start_date.year}.csv'), \n",
    "                           parse_dates=['TimeStamp'], index_col='TimeStamp').asfreq('H')\n",
    "\n",
    "# Read generator cost profile (linear)\n",
    "gencost0_profile = pd.read_csv(os.path.join(grid_data_dir, f'gencost0_profile_{start_date.year}.csv'), \n",
    "                           parse_dates=['TimeStamp'], index_col='TimeStamp').asfreq('H')\n",
    "\n",
    "gencost1_profile = pd.read_csv(os.path.join(grid_data_dir, f'gencost1_profile_{start_date.year}.csv'), \n",
    "                           parse_dates=['TimeStamp'], index_col='TimeStamp').asfreq('H')"
   ],
   "outputs": []
  },
  {
   "cell_type": "code",
   "source": [
    "load_profile.sum(axis=1).sort_values(ascending=False)"
   ],
   "metadata": {
    "collapsed": false,
    "ExecuteTime": {
     "end_time": "2024-01-31T05:44:27.865839700Z",
     "start_time": "2024-01-31T05:44:27.816704400Z"
    }
   },
   "execution_count": 4,
   "outputs": []
  },
  {
   "cell_type": "markdown",
   "source": [
    "### Read variable renewable energy (VRE) data"
   ],
   "metadata": {
    "collapsed": false
   }
  },
  {
   "cell_type": "code",
   "source": [
    "# Renewable generation time series\n",
    "current_solar_gen = pd.read_csv(os.path.join(solar_data_dir, f'current_solar_gen_1hr.csv'),\n",
    "                                parse_dates=['Time'], index_col='Time').asfreq('H')\n",
    "current_solar_gen.columns = current_solar_gen.columns.astype(int)\n",
    "\n",
    "future_solar_gen = pd.read_csv(os.path.join(solar_data_dir, f'future_solar_gen_1hr.csv'),\n",
    "                                parse_dates=['Time'], index_col='Time').asfreq('H')\n",
    "future_solar_gen.columns = future_solar_gen.columns.astype(int)\n",
    "\n",
    "onshore_wind_gen = pd.read_csv(os.path.join(onshore_wind_data_dir, f'current_wind_gen_1hr.csv'),\n",
    "                                parse_dates=['Time'], index_col='Time').asfreq('H')\n",
    "onshore_wind_gen.columns = onshore_wind_gen.columns.astype(int)\n",
    "\n",
    "offshore_wind_gen = pd.read_csv(os.path.join(offshore_wind_data_dir, f'power_load_2018.csv'),\n",
    "                                parse_dates=['timestamp'], index_col='timestamp')\n",
    "offshore_wind_gen.index = offshore_wind_gen.index.tz_localize('US/Eastern', ambiguous='infer')\n",
    "offshore_wind_gen.index.freq = 'H'\n",
    "\n",
    "# Wind farm capacity info\n",
    "capacity = [816, 1260, 924, 1230]\n",
    "capacity_nyc, capacity_li = np.sum(capacity[:2]), np.sum(capacity[2:])\n",
    "\n",
    "# Correct offshore wind generation\n",
    "offshore_wind_gen['power_nyc'] = np.where(offshore_wind_gen['power_nyc'] > capacity_nyc, capacity_nyc, offshore_wind_gen['power_nyc'])\n",
    "offshore_wind_gen['power_li'] = np.where(offshore_wind_gen['power_li'] > capacity_li, capacity_li, offshore_wind_gen['power_li'])"
   ],
   "metadata": {
    "collapsed": false,
    "ExecuteTime": {
     "end_time": "2024-01-31T05:44:32.621046500Z",
     "start_time": "2024-01-31T05:44:27.851630100Z"
    }
   },
   "execution_count": 5,
   "outputs": []
  },
  {
   "cell_type": "code",
   "source": [
    "# Renewable allocation table\n",
    "current_solar_2bus = pd.read_csv(os.path.join(solar_data_dir, f'solar_farms_2bus.csv'), index_col='zip_code')\n",
    "future_solar_2bus = pd.read_csv(os.path.join(solar_data_dir, f'future_solar_farms_2bus.csv'), index_col=0)\n",
    "onshore_wind_2bus = pd.read_csv(os.path.join(onshore_wind_data_dir, f'onshore_wind_2bus.csv'), index_col=0)\n",
    "\n",
    "# Aggregate current solar generation\n",
    "groupby_dict = current_solar_2bus['busIdx'].to_dict()\n",
    "current_solar_gen_agg = current_solar_gen.groupby(groupby_dict, axis=1).sum()\n",
    "current_solar_gen_agg = current_solar_gen_agg/1e3 # convert from kW to MW\n",
    "\n",
    "# Aggregate future solar generation\n",
    "groupby_dict = future_solar_2bus['busIdx'].to_dict()\n",
    "future_solar_gen_agg = future_solar_gen.groupby(groupby_dict, axis=1).sum()\n",
    "future_solar_gen_agg = future_solar_gen_agg/1e3 # convert from kW to MW\n",
    "\n",
    "# Aggregate onshore wind generation\n",
    "groupby_dict = onshore_wind_2bus['busIdx'].to_dict()\n",
    "onshore_wind_gen_agg = onshore_wind_gen.groupby(groupby_dict, axis=1).sum()\n",
    "onshore_wind_gen_agg = onshore_wind_gen_agg/1e3 # convert from kW to MW\n",
    "\n",
    "# Aggregate offshore wind generation\n",
    "offshore_wind_gen_agg = offshore_wind_gen[['power_nyc', 'power_li']].rename(\n",
    "    columns={'power_nyc': 81, 'power_li': 82})"
   ],
   "metadata": {
    "collapsed": false,
    "ExecuteTime": {
     "end_time": "2024-01-31T05:44:32.776679600Z",
     "start_time": "2024-01-31T05:44:32.630492200Z"
    }
   },
   "execution_count": 6,
   "outputs": []
  },
  {
   "cell_type": "code",
   "source": [
    "fig, axs = plt.subplots(4, 1, figsize=(8, 6),\n",
    "                        sharex='all')\n",
    "axs[0].plot(current_solar_gen_agg.sum(axis=1), label='Current solar')\n",
    "axs[1].plot(future_solar_gen_agg.sum(axis=1), label='Future solar')\n",
    "axs[2].plot(onshore_wind_gen_agg.sum(axis=1), label='Onshore wind')\n",
    "axs[3].plot(offshore_wind_gen_agg.sum(axis=1), label='Offshore wind')\n",
    "\n",
    "titles = ['Current solar', 'Future solar', 'Onshore wind', 'Offshore wind']\n",
    "\n",
    "for i, ax in enumerate(axs):\n",
    "    ax.set_title(titles[i])\n",
    "\n",
    "fig.supxlabel('Hour of year')\n",
    "fig.supylabel('Power (MW)')\n",
    "fig.suptitle('Generation time series')\n",
    "fig.tight_layout()"
   ],
   "metadata": {
    "collapsed": false,
    "ExecuteTime": {
     "end_time": "2024-01-31T05:44:33.830669100Z",
     "start_time": "2024-01-31T05:44:32.782694400Z"
    }
   },
   "execution_count": 7,
   "outputs": []
  },
  {
   "cell_type": "code",
   "source": [
    "# 18.08% of current solar generation is built before 2018 (base year)\n",
    "# Scale down current solar generation by 18.08%\n",
    "pct_current_solar_built = 0.1808\n",
    "current_solar_gen_agg = current_solar_gen_agg * (1-pct_current_solar_built)\n",
    "\n",
    "# 90.6% of onshore wind generation is built before 2018 (base year)\n",
    "# Scale down onshore wind generation by 90.6%\n",
    "pct_onshore_wind_built = 0.906\n",
    "onshore_wind_gen_agg = onshore_wind_gen_agg * (1-pct_onshore_wind_built)"
   ],
   "metadata": {
    "collapsed": false,
    "ExecuteTime": {
     "end_time": "2024-01-31T05:44:33.833669300Z",
     "start_time": "2024-01-31T05:44:33.815013600Z"
    }
   },
   "execution_count": 8,
   "outputs": []
  },
  {
   "cell_type": "code",
   "source": [
    "vre_profiles = {'CurSol': current_solar_gen_agg,\n",
    "                'FutSol': future_solar_gen_agg,\n",
    "                'OnWind': onshore_wind_gen_agg,\n",
    "                'OffWind': offshore_wind_gen_agg}\n",
    "vre_prop_list = list()\n",
    "for key, profile in vre_profiles.items():\n",
    "    vre_prop_a = pd.DataFrame(data={'VRE_BUS': profile.columns,\n",
    "                                    'VRE_PMAX': profile.max(axis=0),\n",
    "                                    'VRE_PMIN': 0,\n",
    "                                    'VRE_TYPE': 'Solar',\n",
    "                                    'VRE_NAME': [f'{key}_{col}' for col in profile.columns]})\n",
    "    vre_prop_list.append(vre_prop_a)\n",
    "    \n",
    "# Combine gen_prop tables\n",
    "vre_prop = pd.concat(vre_prop_list, ignore_index=True)\n",
    "vre_prop"
   ],
   "metadata": {
    "collapsed": false,
    "ExecuteTime": {
     "end_time": "2024-01-31T05:44:33.872311Z",
     "start_time": "2024-01-31T05:44:33.830669100Z"
    }
   },
   "execution_count": 9,
   "outputs": []
  },
  {
   "cell_type": "code",
   "source": [
    "# Combine genmax tables\n",
    "genmax_profile_vre = pd.concat([current_solar_gen_agg, future_solar_gen_agg,\n",
    "                                onshore_wind_gen_agg, offshore_wind_gen_agg], axis=1)\n",
    "genmax_profile_vre.columns = vre_prop['VRE_NAME']\n",
    "genmax_profile_vre.index = genmax_profile_vre.index.tz_convert('US/Eastern').tz_localize(None)\n",
    "genmax_profile_vre"
   ],
   "metadata": {
    "collapsed": false,
    "ExecuteTime": {
     "end_time": "2024-01-31T05:44:33.923330900Z",
     "start_time": "2024-01-31T05:44:33.860793400Z"
    }
   },
   "execution_count": 10,
   "outputs": []
  },
  {
   "cell_type": "markdown",
   "source": [
    "### Update load profile for electrification"
   ],
   "metadata": {
    "collapsed": false
   }
  },
  {
   "cell_type": "code",
   "source": [
    "# Read county to bus allocation table\n",
    "county_2bus = pd.read_csv(os.path.join(buildings_data_dir, 'county_centroids_2bus.csv'), \n",
    "                          index_col=0)\n",
    "fips_list = ['G'+s[:2]+'0'+s[2:]+'0' for s in county_2bus['FIPS_CODE'].astype(str)]\n",
    "\n",
    "# County-level load data\n",
    "# Residential buildings current load (upgrade=0)\n",
    "pickle_dir = os.path.join(buildings_data_dir, 'euss_processed', 'upgrade=0')\n",
    "res_current_load = pd.DataFrame()\n",
    "\n",
    "for ii in range(len(fips_list)):\n",
    "    pickle_file = os.path.join(pickle_dir, f'{fips_list[0]}_elec_total.pkl')\n",
    "    # Read pickle file\n",
    "    with open(os.path.join(pickle_dir, pickle_file), 'rb') as f:\n",
    "        county_load = pickle.load(f)\n",
    "        county_load = county_load.rename(columns={'total': fips_list[ii]})\n",
    "        res_current_load = pd.concat([res_current_load, county_load], axis=1)\n",
    "\n",
    "# Residential buildings future load (upgrade=10)\n",
    "pickle_dir = os.path.join(buildings_data_dir, 'euss_processed', 'upgrade=10')\n",
    "res_elec_load = pd.DataFrame()\n",
    "\n",
    "for ii in range(len(fips_list)):\n",
    "    pickle_file = os.path.join(pickle_dir, f'{fips_list[0]}_elec_total.pkl')\n",
    "    # Read pickle file\n",
    "    with open(os.path.join(pickle_dir, pickle_file), 'rb') as f:\n",
    "        county_load = pickle.load(f)\n",
    "        county_load = county_load.rename(columns={'total': fips_list[ii]})\n",
    "        res_elec_load = pd.concat([res_elec_load, county_load], axis=1)\n",
    "\n",
    "# Changes in residential load\n",
    "res_load_change = res_elec_load - res_current_load\n",
    "res_load_change.index.name = 'Time'\n",
    "\n",
    "# Aggregate building load to buses\n",
    "groupby_dict = dict(zip(fips_list, county_2bus['busIdx']))\n",
    "res_load_change_bus = res_load_change.groupby(groupby_dict, axis=1).sum()\n",
    "res_load_change_bus = res_load_change_bus/1e3 # convert from kW to MW\n",
    "\n",
    "# NOTE: Scale down residential load change by 50%\n",
    "res_load_change_bus = res_load_change_bus*0.5\n",
    "\n",
    "# Load profile with residential load change only\n",
    "load_profile_elec = load_profile.add(res_load_change_bus, fill_value=0)\n",
    "load_profile_elec"
   ],
   "metadata": {
    "collapsed": false,
    "ExecuteTime": {
     "end_time": "2024-01-31T05:44:34.256363300Z",
     "start_time": "2024-01-31T05:44:33.911809100Z"
    }
   },
   "execution_count": 11,
   "outputs": []
  },
  {
   "cell_type": "markdown",
   "source": [
    "### Read DC line and ESR property file"
   ],
   "metadata": {
    "collapsed": false
   }
  },
  {
   "cell_type": "code",
   "source": [
    "# Read DC line property file\n",
    "filename = os.path.join(grid_data_dir, 'dcline_prop.csv')\n",
    "dcline_prop = pd.read_csv(filename, index_col=0)\n",
    "dcline_prop"
   ],
   "metadata": {
    "collapsed": false,
    "ExecuteTime": {
     "end_time": "2024-01-31T05:44:34.299529400Z",
     "start_time": "2024-01-31T05:44:34.232761500Z"
    }
   },
   "execution_count": 12,
   "outputs": []
  },
  {
   "cell_type": "code",
   "source": [
    "filename = os.path.join(grid_data_dir, 'esr_prop.csv')\n",
    "esr_prop = pd.read_csv(filename, index_col=0)\n",
    "esr_prop"
   ],
   "metadata": {
    "collapsed": false,
    "ExecuteTime": {
     "end_time": "2024-01-31T05:44:34.421390300Z",
     "start_time": "2024-01-31T05:44:34.263357200Z"
    }
   },
   "execution_count": 13,
   "outputs": []
  },
  {
   "cell_type": "markdown",
   "source": [
    "## Multi-period OPF"
   ],
   "metadata": {}
  },
  {
   "cell_type": "markdown",
   "source": [
    "### Without initial conditions"
   ],
   "metadata": {}
  },
  {
   "cell_type": "code",
   "source": [
    "# Only run for one day\n",
    "d = 7\n",
    "start_datetime = timestamp_list[d]\n",
    "end_datetime = start_datetime + timedelta(hours=47)\n",
    "print(f'Start time: {start_datetime}')\n",
    "print(f'End time: {end_datetime}')"
   ],
   "metadata": {
    "ExecuteTime": {
     "end_time": "2024-01-31T05:44:34.547612900Z",
     "start_time": "2024-01-31T05:44:34.312047200Z"
    }
   },
   "execution_count": 14,
   "outputs": []
  },
  {
   "cell_type": "markdown",
   "source": [
    "#### Without ESR"
   ],
   "metadata": {
    "collapsed": false
   }
  },
  {
   "cell_type": "code",
   "source": [
    "# Create NYGrid object\n",
    "nygrid_sim_wo_esr = NYGrid(grid_data_dir, \n",
    "                            start_datetime=start_datetime.strftime('%m-%d-%Y %H'), \n",
    "                            end_datetime=end_datetime.strftime('%m-%d-%Y %H'),\n",
    "                            dcline_prop=dcline_prop,\n",
    "                            esr_prop=None,\n",
    "                            vre_prop=None,\n",
    "                            verbose=True)\n",
    "\n",
    "# Set load and generation time series data\n",
    "nygrid_sim_wo_esr.set_load_sch(load_profile)\n",
    "nygrid_sim_wo_esr.set_gen_mw_sch(gen_profile)\n",
    "nygrid_sim_wo_esr.set_gen_max_sch(genmax_profile)\n",
    "nygrid_sim_wo_esr.set_gen_min_sch(genmin_profile)\n",
    "nygrid_sim_wo_esr.set_gen_ramp_sch(genramp30_profile)\n",
    "nygrid_sim_wo_esr.set_gen_cost_sch(gencost0_profile, gencost1_profile)\n",
    "\n",
    "# Relax branch flow limits\n",
    "nygrid_sim_wo_esr.relax_external_branch_lim()\n",
    "\n",
    "# Set generator initial condition\n",
    "nygrid_sim_wo_esr.set_gen_init_data(gen_init=None)\n",
    "\n",
    "# Set options\n",
    "options = {\n",
    "    'UsePTDF': True,\n",
    "    'solver': 'gurobi',\n",
    "    'PenaltyForLoadShed': 20_000,\n",
    "    'PenaltyForBranchMwViolation': 10_000,\n",
    "    'PenaltyForInterfaceMWViolation': 10_000\n",
    "}\n",
    "\n",
    "nygrid_sim_wo_esr.set_options(options)\n",
    "\n",
    "# Solve DC OPF\n",
    "nygrid_sim_wo_esr.solve_dc_opf()\n",
    "\n",
    "# Get results\n",
    "results_0_wo_esr = nygrid_sim_wo_esr.get_results_dc_opf()"
   ],
   "metadata": {
    "collapsed": false,
    "ExecuteTime": {
     "end_time": "2024-01-31T05:45:06.420771600Z",
     "start_time": "2024-01-31T05:44:34.338585Z"
    }
   },
   "execution_count": 15,
   "outputs": []
  },
  {
   "cell_type": "code",
   "source": [
    "print(\"s_ramp_up\", results_0_wo_esr['s_ramp_up'].sum())\n",
    "print(\"s_ramp_down\", results_0_wo_esr['s_ramp_down'].sum())\n",
    "print(\"s_over_gen\", results_0_wo_esr['s_over_gen'].sum())\n",
    "print(\"s_load_shed\", results_0_wo_esr['s_load_shed'].sum())\n",
    "print(\"s_if_max\", results_0_wo_esr['s_if_max'].sum())\n",
    "print(\"s_if_min\", results_0_wo_esr['s_if_min'].sum())\n",
    "print(\"s_br_max\", results_0_wo_esr['s_br_max'].sum())\n",
    "print(\"s_br_min\", results_0_wo_esr['s_br_min'].sum())"
   ],
   "metadata": {
    "collapsed": false,
    "ExecuteTime": {
     "end_time": "2024-01-31T05:45:06.450345300Z",
     "start_time": "2024-01-31T05:45:06.425260300Z"
    }
   },
   "execution_count": 16,
   "outputs": []
  },
  {
   "cell_type": "markdown",
   "source": [
    "#### With ESR"
   ],
   "metadata": {
    "collapsed": false
   }
  },
  {
   "cell_type": "code",
   "source": [
    "# Create NYGrid object\n",
    "nygrid_sim_w_esr = NYGrid(grid_data_dir, \n",
    "                          start_datetime=start_datetime.strftime('%m-%d-%Y %H'), \n",
    "                          end_datetime=end_datetime.strftime('%m-%d-%Y %H'),\n",
    "                          dcline_prop=dcline_prop,\n",
    "                          esr_prop=esr_prop,\n",
    "                          vre_prop=None,\n",
    "                          verbose=True)\n",
    "\n",
    "# Set load and generation time series data\n",
    "nygrid_sim_w_esr.set_load_sch(load_profile)\n",
    "nygrid_sim_w_esr.set_gen_mw_sch(gen_profile)\n",
    "nygrid_sim_w_esr.set_gen_max_sch(genmax_profile)\n",
    "nygrid_sim_w_esr.set_gen_min_sch(genmin_profile)\n",
    "nygrid_sim_w_esr.set_gen_ramp_sch(genramp30_profile)\n",
    "nygrid_sim_w_esr.set_gen_cost_sch(gencost0_profile, gencost1_profile)\n",
    "\n",
    "# Relax branch flow limits\n",
    "nygrid_sim_w_esr.relax_external_branch_lim()\n",
    "\n",
    "# Set generator initial condition\n",
    "nygrid_sim_w_esr.set_gen_init_data(gen_init=None)\n",
    "\n",
    "# Set options\n",
    "options = {\n",
    "    'UsePTDF': True,\n",
    "    'solver': 'gurobi',\n",
    "    'PenaltyForLoadShed': 20_000,\n",
    "    'PenaltyForBranchMwViolation': 10_000,\n",
    "    'PenaltyForInterfaceMWViolation': 10_000\n",
    "}\n",
    "\n",
    "nygrid_sim_w_esr.set_options(options)\n",
    "\n",
    "# Solve DC OPF\n",
    "nygrid_sim_w_esr.solve_dc_opf()\n",
    "\n",
    "# Get results\n",
    "results_0_w_esr = nygrid_sim_w_esr.get_results_dc_opf()"
   ],
   "metadata": {
    "collapsed": false,
    "ExecuteTime": {
     "end_time": "2024-01-31T05:45:39.822399500Z",
     "start_time": "2024-01-31T05:45:06.440796200Z"
    }
   },
   "execution_count": 17,
   "outputs": []
  },
  {
   "cell_type": "code",
   "source": [
    "print(\"s_ramp_up\", results_0_w_esr['s_ramp_up'].sum())\n",
    "print(\"s_ramp_down\", results_0_w_esr['s_ramp_down'].sum())\n",
    "print(\"s_over_gen\", results_0_w_esr['s_over_gen'].sum())\n",
    "print(\"s_load_shed\", results_0_w_esr['s_load_shed'].sum())\n",
    "print(\"s_if_max\", results_0_w_esr['s_if_max'].sum())\n",
    "print(\"s_if_min\", results_0_w_esr['s_if_min'].sum())\n",
    "print(\"s_br_max\", results_0_w_esr['s_br_max'].sum())\n",
    "print(\"s_br_min\", results_0_w_esr['s_br_min'].sum())"
   ],
   "metadata": {
    "collapsed": false,
    "ExecuteTime": {
     "end_time": "2024-01-31T05:45:39.845200800Z",
     "start_time": "2024-01-31T05:45:39.825396800Z"
    }
   },
   "execution_count": 18,
   "outputs": []
  },
  {
   "cell_type": "markdown",
   "source": [
    "#### With VRE"
   ],
   "metadata": {
    "collapsed": false
   }
  },
  {
   "cell_type": "code",
   "source": [
    "# Create NYGrid object\n",
    "nygrid_sim_w_vre = NYGrid(grid_data_dir, \n",
    "                          start_datetime=start_datetime.strftime('%m-%d-%Y %H'), \n",
    "                          end_datetime=end_datetime.strftime('%m-%d-%Y %H'),\n",
    "                          dcline_prop=dcline_prop,\n",
    "                          esr_prop=None,\n",
    "                          vre_prop=vre_prop,\n",
    "                          verbose=True)\n",
    "\n",
    "# Set load and generation time series data\n",
    "nygrid_sim_w_vre.set_load_sch(load_profile)\n",
    "nygrid_sim_w_vre.set_gen_mw_sch(gen_profile)\n",
    "nygrid_sim_w_vre.set_gen_max_sch(genmax_profile)\n",
    "nygrid_sim_w_vre.set_vre_max_sch(genmax_profile_vre)\n",
    "nygrid_sim_w_vre.set_gen_min_sch(genmin_profile)\n",
    "nygrid_sim_w_vre.set_gen_ramp_sch(genramp30_profile)\n",
    "nygrid_sim_w_vre.set_gen_cost_sch(gencost0_profile, gencost1_profile)\n",
    "\n",
    "# Relax branch flow limits\n",
    "nygrid_sim_w_vre.relax_external_branch_lim()\n",
    "\n",
    "# Set generator initial condition\n",
    "nygrid_sim_w_vre.set_gen_init_data(gen_init=None)\n",
    "\n",
    "# Set options\n",
    "options = {\n",
    "    'UsePTDF': True,\n",
    "    'solver': 'gurobi',\n",
    "    'PenaltyForLoadShed': 20_000,\n",
    "    'PenaltyForBranchMwViolation': 10_000,\n",
    "    'PenaltyForInterfaceMWViolation': 10_000\n",
    "}\n",
    "\n",
    "nygrid_sim_w_vre.set_options(options)\n",
    "\n",
    "# Solve DC OPF\n",
    "nygrid_sim_w_vre.solve_dc_opf()\n",
    "\n",
    "# Get results\n",
    "results_0_w_vre = nygrid_sim_w_vre.get_results_dc_opf()"
   ],
   "metadata": {
    "collapsed": false,
    "ExecuteTime": {
     "end_time": "2024-01-31T05:46:17.103722700Z",
     "start_time": "2024-01-31T05:45:39.841550100Z"
    }
   },
   "execution_count": 19,
   "outputs": []
  },
  {
   "cell_type": "code",
   "source": [
    "print(\"s_ramp_up\", results_0_w_vre['s_ramp_up'].sum())\n",
    "print(\"s_ramp_down\", results_0_w_vre['s_ramp_down'].sum())\n",
    "print(\"s_over_gen\", results_0_w_vre['s_over_gen'].sum())\n",
    "print(\"s_load_shed\", results_0_w_vre['s_load_shed'].sum())\n",
    "print(\"s_if_max\", results_0_w_vre['s_if_max'].sum())\n",
    "print(\"s_if_min\", results_0_w_vre['s_if_min'].sum())\n",
    "print(\"s_br_max\", results_0_w_vre['s_br_max'].sum())\n",
    "print(\"s_br_min\", results_0_w_vre['s_br_min'].sum())"
   ],
   "metadata": {
    "collapsed": false,
    "ExecuteTime": {
     "end_time": "2024-01-31T05:46:17.133379200Z",
     "start_time": "2024-01-31T05:46:17.108237500Z"
    }
   },
   "execution_count": 20,
   "outputs": []
  },
  {
   "cell_type": "markdown",
   "source": [
    "#### With VRE and ESR"
   ],
   "metadata": {
    "collapsed": false
   }
  },
  {
   "cell_type": "code",
   "source": [
    "# Create NYGrid object\n",
    "nygrid_sim_w_vre_esr = NYGrid(grid_data_dir, \n",
    "                          start_datetime=start_datetime.strftime('%m-%d-%Y %H'), \n",
    "                          end_datetime=end_datetime.strftime('%m-%d-%Y %H'),\n",
    "                          dcline_prop=dcline_prop,\n",
    "                          esr_prop=esr_prop,\n",
    "                          vre_prop=vre_prop,\n",
    "                          verbose=True)\n",
    "\n",
    "# Set load and generation time series data\n",
    "nygrid_sim_w_vre_esr.set_load_sch(load_profile)\n",
    "nygrid_sim_w_vre_esr.set_gen_mw_sch(gen_profile)\n",
    "nygrid_sim_w_vre_esr.set_gen_max_sch(genmax_profile)\n",
    "nygrid_sim_w_vre_esr.set_vre_max_sch(genmax_profile_vre)\n",
    "nygrid_sim_w_vre_esr.set_gen_min_sch(genmin_profile)\n",
    "nygrid_sim_w_vre_esr.set_gen_ramp_sch(genramp30_profile)\n",
    "nygrid_sim_w_vre_esr.set_gen_cost_sch(gencost0_profile, gencost1_profile)\n",
    "\n",
    "# Relax branch flow limits\n",
    "nygrid_sim_w_vre_esr.relax_external_branch_lim()\n",
    "\n",
    "# Set generator initial condition\n",
    "nygrid_sim_w_vre_esr.set_gen_init_data(gen_init=None)\n",
    "\n",
    "# Set options\n",
    "options = {\n",
    "    'UsePTDF': True,\n",
    "    'solver': 'gurobi',\n",
    "    'PenaltyForLoadShed': 20_000,\n",
    "    'PenaltyForBranchMwViolation': 10_000,\n",
    "    'PenaltyForInterfaceMWViolation': 10_000\n",
    "}\n",
    "\n",
    "nygrid_sim_w_vre_esr.set_options(options)\n",
    "\n",
    "# Solve DC OPF\n",
    "nygrid_sim_w_vre_esr.solve_dc_opf()\n",
    "\n",
    "# Get results\n",
    "results_0_w_vre_esr = nygrid_sim_w_vre_esr.get_results_dc_opf()"
   ],
   "metadata": {
    "collapsed": false,
    "ExecuteTime": {
     "end_time": "2024-01-31T05:46:55.812119200Z",
     "start_time": "2024-01-31T05:46:17.126821100Z"
    }
   },
   "execution_count": 21,
   "outputs": []
  },
  {
   "cell_type": "code",
   "source": [
    "print(\"s_ramp_up\", results_0_w_vre_esr['s_ramp_up'].sum())\n",
    "print(\"s_ramp_down\", results_0_w_vre_esr['s_ramp_down'].sum())\n",
    "print(\"s_over_gen\", results_0_w_vre_esr['s_over_gen'].sum())\n",
    "print(\"s_load_shed\", results_0_w_vre_esr['s_load_shed'].sum())\n",
    "print(\"s_if_max\", results_0_w_vre_esr['s_if_max'].sum())\n",
    "print(\"s_if_min\", results_0_w_vre_esr['s_if_min'].sum())\n",
    "print(\"s_br_max\", results_0_w_vre_esr['s_br_max'].sum())\n",
    "print(\"s_br_min\", results_0_w_vre_esr['s_br_min'].sum())"
   ],
   "metadata": {
    "collapsed": false,
    "ExecuteTime": {
     "end_time": "2024-01-31T05:46:55.867229500Z",
     "start_time": "2024-01-31T05:46:55.820169600Z"
    }
   },
   "execution_count": 22,
   "outputs": []
  },
  {
   "cell_type": "markdown",
   "source": [
    "#### Results"
   ],
   "metadata": {
    "collapsed": false
   }
  },
  {
   "cell_type": "code",
   "source": [
    "ii = 5\n",
    "print('total', nygrid_sim_w_esr.model.PG[:, nygrid_sim_w_esr.esr_idx[ii]]())\n",
    "print('discharging', nygrid_sim_w_esr.model.esrPDis[:, ii]())\n",
    "print('charging', nygrid_sim_w_esr.model.esrPCrg[:, ii]())\n",
    "print('SOC', nygrid_sim_w_esr.model.esrSOC[:, ii]())"
   ],
   "metadata": {
    "collapsed": false,
    "ExecuteTime": {
     "end_time": "2024-01-31T05:46:55.960584300Z",
     "start_time": "2024-01-31T05:46:55.847244400Z"
    }
   },
   "execution_count": 23,
   "outputs": []
  },
  {
   "cell_type": "code",
   "source": [
    "print(f'Total cost: {results_0_wo_esr[\"total_cost\"].sum():.2f}, {results_0_w_esr[\"total_cost\"].sum():.2f}, {results_0_w_vre[\"total_cost\"].sum():.2f}, {results_0_w_vre_esr[\"total_cost\"].sum():.2f}')\n",
    "print(f'Gen cost: {results_0_wo_esr[\"gen_cost\"].sum():.2f}, {results_0_w_esr[\"gen_cost\"].sum():.2f}, {results_0_w_vre[\"gen_cost\"].sum():.2f}, {results_0_w_vre_esr[\"gen_cost\"].sum():.2f}')\n",
    "print(f'Over generation penalty: {results_0_wo_esr[\"over_gen_penalty\"].sum():.2f}, {results_0_w_esr[\"over_gen_penalty\"].sum():.2f}, {results_0_w_vre[\"over_gen_penalty\"].sum():.2f}, {results_0_w_vre_esr[\"over_gen_penalty\"].sum():.2f}')\n",
    "print(f'Load shed penalty: {results_0_wo_esr[\"load_shed_penalty\"].sum():.2f}, {results_0_w_esr[\"load_shed_penalty\"].sum():.2f}, {results_0_w_vre[\"load_shed_penalty\"].sum():.2f}, {results_0_w_vre_esr[\"load_shed_penalty\"].sum():.2f}')\n",
    "print(f'Ramp up penalty: {results_0_wo_esr[\"ramp_up_penalty\"].sum():.2f}, {results_0_w_esr[\"ramp_up_penalty\"].sum():.2f}, {results_0_w_vre[\"ramp_up_penalty\"].sum():.2f}, {results_0_w_vre_esr[\"ramp_up_penalty\"].sum():.2f}')\n",
    "print(f'Ramp down penalty: {results_0_wo_esr[\"ramp_down_penalty\"].sum():.2f}, {results_0_w_esr[\"ramp_down_penalty\"].sum():.2f}, {results_0_w_vre[\"ramp_down_penalty\"].sum():.2f}, {results_0_w_vre_esr[\"ramp_down_penalty\"].sum():.2f}')\n",
    "print(f'Interface max penalty: {results_0_wo_esr[\"if_max_penalty\"].sum():.2f}, {results_0_w_esr[\"if_max_penalty\"].sum():.2f}, {results_0_w_vre[\"if_max_penalty\"].sum():.2f}, {results_0_w_vre_esr[\"if_max_penalty\"].sum():.2f}')\n",
    "print(f'Interface min penalty: {results_0_wo_esr[\"if_min_penalty\"].sum():.2f}, {results_0_w_esr[\"if_min_penalty\"].sum():.2f}, {results_0_w_vre[\"if_min_penalty\"].sum():.2f}, {results_0_w_vre_esr[\"if_min_penalty\"].sum():.2f}')\n",
    "print(f'Branch max penalty: {results_0_wo_esr[\"br_max_penalty\"].sum():.2f}, {results_0_w_esr[\"br_max_penalty\"].sum():.2f}, {results_0_w_vre[\"br_max_penalty\"].sum():.2f}, {results_0_w_vre_esr[\"br_max_penalty\"].sum():.2f}')\n",
    "print(f'Branch min penalty: {results_0_wo_esr[\"br_min_penalty\"].sum():.2f}, {results_0_w_esr[\"br_min_penalty\"].sum():.2f}, {results_0_w_vre[\"br_min_penalty\"].sum():.2f}, {results_0_w_vre_esr[\"br_min_penalty\"].sum():.2f}')"
   ],
   "metadata": {
    "collapsed": false,
    "ExecuteTime": {
     "end_time": "2024-01-31T05:46:55.963581600Z",
     "start_time": "2024-01-31T05:46:55.880881900Z"
    }
   },
   "execution_count": 24,
   "outputs": []
  },
  {
   "cell_type": "code",
   "source": [
    "# Create a dict where key is busIdx and value is zoneID\n",
    "bus_zone_alloc = nygrid_sim_w_esr.grid_data['bus_prop'].set_index('BUS_I').to_dict()['BUS_ZONE']\n",
    "bus_names = list(bus_zone_alloc.keys())\n",
    "bus_names_str = [f'Bus{i}' for i in bus_names]"
   ],
   "metadata": {
    "collapsed": false,
    "ExecuteTime": {
     "end_time": "2024-01-31T05:46:55.995254800Z",
     "start_time": "2024-01-31T05:46:55.893717600Z"
    }
   },
   "execution_count": 25,
   "outputs": []
  },
  {
   "cell_type": "code",
   "source": [
    "lmp_wo_esr = results_0_wo_esr['LMP']\n",
    "lmp_wo_esr.columns = bus_names\n",
    "\n",
    "lmp_w_esr = results_0_w_esr['LMP']\n",
    "lmp_w_esr.columns = bus_names\n",
    "\n",
    "lmp_w_vre = results_0_w_vre['LMP']\n",
    "lmp_w_vre.columns = bus_names\n",
    "\n",
    "lmp_w_vre_esr = results_0_w_vre_esr['LMP']\n",
    "lmp_w_vre_esr.columns = bus_names\n",
    "\n",
    "# Aggregate LMPs by zone\n",
    "lmp_wo_esr_zone = lmp_wo_esr.groupby(bus_zone_alloc, axis=1).mean()\n",
    "lmp_w_esr_zone = lmp_w_esr.groupby(bus_zone_alloc, axis=1).mean()\n",
    "lmp_w_vre_zone = lmp_w_vre.groupby(bus_zone_alloc, axis=1).mean()\n",
    "lmp_w_vre_esr_zone = lmp_w_vre_esr.groupby(bus_zone_alloc, axis=1).mean()"
   ],
   "metadata": {
    "collapsed": false,
    "ExecuteTime": {
     "end_time": "2024-01-31T05:46:56.075132100Z",
     "start_time": "2024-01-31T05:46:55.962580Z"
    }
   },
   "execution_count": 26,
   "outputs": []
  },
  {
   "cell_type": "code",
   "source": [
    "fig, axs = plt.subplots(7, 2, figsize=(12, 12), sharex='all', sharey='all')\n",
    "# Plot LMPs w/o ESR\n",
    "for i, ax in enumerate(axs.flat):\n",
    "    lmp_wo_esr_zone.iloc[:, i].plot(ax=ax, label='w/o ESR')\n",
    "    lmp_w_esr_zone.iloc[:, i].plot(ax=ax, label='w/ ESR')\n",
    "    lmp_w_vre_zone.iloc[:, i].plot(ax=ax, label='w/ VRE')\n",
    "    lmp_w_vre_esr_zone.iloc[:, i].plot(ax=ax, label='w/ VRE & ESR')\n",
    "    ax.set_title(lmp_w_esr_zone.columns[i])\n",
    "    ax.legend()\n",
    "    \n",
    "fig.tight_layout()"
   ],
   "metadata": {
    "collapsed": false,
    "ExecuteTime": {
     "end_time": "2024-01-31T05:46:58.986260Z",
     "start_time": "2024-01-31T05:46:55.982644600Z"
    }
   },
   "execution_count": 27,
   "outputs": []
  },
  {
   "cell_type": "code",
   "source": [
    "load_profile.columns = bus_names\n",
    "load_profile_zone = load_profile.groupby(bus_zone_alloc, axis=1).sum()\n",
    "load_profile_zone[start_datetime:end_datetime].plot.area(title=\"Zonal Load\")"
   ],
   "metadata": {
    "collapsed": false,
    "ExecuteTime": {
     "end_time": "2024-01-31T05:46:59.338034500Z",
     "start_time": "2024-01-31T05:46:58.985251100Z"
    }
   },
   "execution_count": 28,
   "outputs": []
  },
  {
   "cell_type": "code",
   "source": [
    "results_0_wo_esr['LMP'].plot(legend=False, title=\"Bus LMP (w/o ESR)\")\n",
    "plt.show()"
   ],
   "metadata": {
    "collapsed": false,
    "ExecuteTime": {
     "end_time": "2024-01-31T05:46:59.642371400Z",
     "start_time": "2024-01-31T05:46:59.340039900Z"
    }
   },
   "execution_count": 29,
   "outputs": []
  },
  {
   "cell_type": "code",
   "source": [
    "results_0_w_esr['LMP'].plot(legend=False, title=\"Bus LMP (w/ ESR)\")\n",
    "plt.show()"
   ],
   "metadata": {
    "collapsed": false,
    "ExecuteTime": {
     "end_time": "2024-01-31T05:46:59.965076800Z",
     "start_time": "2024-01-31T05:46:59.646883900Z"
    }
   },
   "execution_count": 30,
   "outputs": []
  },
  {
   "cell_type": "code",
   "source": [
    "gen_max = genmax_profile[start_datetime:end_datetime]\n",
    "gen_pg = results_0_wo_esr['PG'].iloc[:, :303]\n",
    "gen_pg.columns = gen_max.columns\n",
    "surplus = gen_max - gen_pg\n",
    "surplus"
   ],
   "metadata": {
    "collapsed": false,
    "ExecuteTime": {
     "end_time": "2024-01-31T05:47:00.096642900Z",
     "start_time": "2024-01-31T05:46:59.963566Z"
    }
   },
   "execution_count": 31,
   "outputs": []
  },
  {
   "cell_type": "markdown",
   "metadata": {},
   "source": [
    "### With initial conditions"
   ]
  },
  {
   "cell_type": "code",
   "source": [
    "# Only run for one day\n",
    "d = d+1\n",
    "start_datetime = timestamp_list[d]\n",
    "end_datetime = start_datetime + timedelta(hours=47)\n",
    "print(f'Start time: {start_datetime}')\n",
    "print(f'End time: {end_datetime}')"
   ],
   "metadata": {
    "ExecuteTime": {
     "end_time": "2024-01-31T05:47:00.165859200Z",
     "start_time": "2024-01-31T05:47:00.083826800Z"
    }
   },
   "execution_count": 32,
   "outputs": []
  },
  {
   "cell_type": "markdown",
   "source": [
    "#### Without ESR"
   ],
   "metadata": {
    "collapsed": false
   }
  },
  {
   "cell_type": "code",
   "execution_count": 33,
   "metadata": {
    "ExecuteTime": {
     "end_time": "2024-01-31T05:47:31.736158900Z",
     "start_time": "2024-01-31T05:47:00.099212100Z"
    }
   },
   "source": [
    "# Create NYGrid object\n",
    "nygrid_sim_1_wo_esr = NYGrid(grid_data_dir, \n",
    "                            start_datetime=start_datetime.strftime('%m-%d-%Y %H'), \n",
    "                            end_datetime=end_datetime.strftime('%m-%d-%Y %H'),\n",
    "                            dcline_prop=dcline_prop,\n",
    "                            esr_prop=None,\n",
    "                            verbose=True)\n",
    "\n",
    "# Set load and generation time series data\n",
    "nygrid_sim_1_wo_esr.set_load_sch(load_profile)\n",
    "nygrid_sim_1_wo_esr.set_gen_mw_sch(gen_profile)\n",
    "nygrid_sim_1_wo_esr.set_gen_max_sch(genmax_profile)\n",
    "nygrid_sim_1_wo_esr.set_gen_min_sch(genmin_profile)\n",
    "nygrid_sim_1_wo_esr.set_gen_ramp_sch(genramp30_profile)\n",
    "nygrid_sim_1_wo_esr.set_gen_cost_sch(gencost0_profile, gencost1_profile)\n",
    "\n",
    "# Relax branch flow limits\n",
    "nygrid_sim_1_wo_esr.relax_external_branch_lim()\n",
    "\n",
    "# Set generator initial condition\n",
    "last_gen = results_0_wo_esr['PG'].loc[start_datetime].to_numpy().squeeze()\n",
    "nygrid_sim_1_wo_esr.set_gen_init_data(gen_init=last_gen)\n",
    "\n",
    "# Set options\n",
    "options = {\n",
    "    'UsePTDF': True,\n",
    "    'solver': 'gurobi',\n",
    "    'PenaltyForLoadShed': 20_000,\n",
    "    'PenaltyForBranchMwViolation': 10_000,\n",
    "    'PenaltyForInterfaceMWViolation': 10_000\n",
    "}\n",
    "\n",
    "nygrid_sim_1_wo_esr.set_options(options)\n",
    "\n",
    "# Solve DC OPF\n",
    "nygrid_sim_1_wo_esr.solve_dc_opf()\n",
    "\n",
    "# Get results\n",
    "results_1_wo_esr = nygrid_sim_1_wo_esr.get_results_dc_opf()"
   ],
   "outputs": []
  },
  {
   "cell_type": "code",
   "source": [
    "print(\"s_ramp_up\", results_1_wo_esr['s_ramp_up'].sum())\n",
    "print(\"s_ramp_down\", results_1_wo_esr['s_ramp_down'].sum())\n",
    "print(\"s_over_gen\", results_1_wo_esr['s_over_gen'].sum())\n",
    "print(\"s_load_shed\", results_1_wo_esr['s_load_shed'].sum())\n",
    "print(\"s_if_max\", results_1_wo_esr['s_if_max'].sum())\n",
    "print(\"s_if_min\", results_1_wo_esr['s_if_min'].sum())\n",
    "print(\"s_br_max\", results_1_wo_esr['s_br_max'].sum())\n",
    "print(\"s_br_min\", results_1_wo_esr['s_br_min'].sum())"
   ],
   "metadata": {
    "collapsed": false,
    "ExecuteTime": {
     "end_time": "2024-01-31T05:47:31.762132700Z",
     "start_time": "2024-01-31T05:47:31.739145900Z"
    }
   },
   "execution_count": 34,
   "outputs": []
  },
  {
   "cell_type": "markdown",
   "source": [
    "#### With ESR"
   ],
   "metadata": {
    "collapsed": false
   }
  },
  {
   "cell_type": "code",
   "source": [
    "# Create NYGrid object\n",
    "nygrid_sim_1_w_esr = NYGrid(grid_data_dir, \n",
    "                            start_datetime=start_datetime.strftime('%m-%d-%Y %H'), \n",
    "                            end_datetime=end_datetime.strftime('%m-%d-%Y %H'),\n",
    "                            dcline_prop=dcline_prop,\n",
    "                            esr_prop=esr_prop,\n",
    "                            verbose=True)\n",
    "\n",
    "# Set load and generation time series data\n",
    "nygrid_sim_1_w_esr.set_load_sch(load_profile)\n",
    "nygrid_sim_1_w_esr.set_gen_mw_sch(gen_profile)\n",
    "nygrid_sim_1_w_esr.set_gen_max_sch(genmax_profile)\n",
    "nygrid_sim_1_w_esr.set_gen_min_sch(genmin_profile)\n",
    "nygrid_sim_1_w_esr.set_gen_ramp_sch(genramp30_profile)\n",
    "nygrid_sim_1_w_esr.set_gen_cost_sch(gencost0_profile, gencost1_profile)\n",
    "\n",
    "# Relax branch flow limits\n",
    "nygrid_sim_1_w_esr.relax_external_branch_lim()\n",
    "\n",
    "# Set generator initial condition\n",
    "last_gen = results_0_w_esr['PG'].loc[start_datetime].to_numpy().squeeze()\n",
    "nygrid_sim_1_w_esr.set_gen_init_data(gen_init=last_gen)\n",
    "\n",
    "# Set options\n",
    "options = {\n",
    "    'UsePTDF': True,\n",
    "    'solver': 'gurobi',\n",
    "    'PenaltyForLoadShed': 20_000,\n",
    "    'PenaltyForBranchMwViolation': 10_000,\n",
    "    'PenaltyForInterfaceMWViolation': 10_000\n",
    "}\n",
    "\n",
    "nygrid_sim_1_w_esr.set_options(options)\n",
    "\n",
    "# Solve DC OPF\n",
    "nygrid_sim_1_w_esr.solve_dc_opf()\n",
    "\n",
    "# Get results\n",
    "results_1_w_esr = nygrid_sim_1_w_esr.get_results_dc_opf()"
   ],
   "metadata": {
    "collapsed": false,
    "ExecuteTime": {
     "end_time": "2024-01-31T05:48:06.806438300Z",
     "start_time": "2024-01-31T05:47:31.755203Z"
    }
   },
   "execution_count": 35,
   "outputs": []
  },
  {
   "cell_type": "code",
   "source": [
    "print(\"s_ramp_up\", results_1_w_esr['s_ramp_up'].sum())\n",
    "print(\"s_ramp_down\", results_1_w_esr['s_ramp_down'].sum())\n",
    "print(\"s_over_gen\", results_1_w_esr['s_over_gen'].sum())\n",
    "print(\"s_load_shed\", results_1_w_esr['s_load_shed'].sum())\n",
    "print(\"s_if_max\", results_1_w_esr['s_if_max'].sum())\n",
    "print(\"s_if_min\", results_1_w_esr['s_if_min'].sum())\n",
    "print(\"s_br_max\", results_1_w_esr['s_br_max'].sum())\n",
    "print(\"s_br_min\", results_1_w_esr['s_br_min'].sum())"
   ],
   "metadata": {
    "collapsed": false,
    "ExecuteTime": {
     "end_time": "2024-01-31T05:48:06.827656400Z",
     "start_time": "2024-01-31T05:48:06.811592400Z"
    }
   },
   "execution_count": 36,
   "outputs": []
  },
  {
   "cell_type": "markdown",
   "source": [
    "#### With VRE"
   ],
   "metadata": {
    "collapsed": false
   }
  },
  {
   "cell_type": "code",
   "source": [
    "# Create NYGrid object\n",
    "nygrid_sim_1_w_vre = NYGrid(grid_data_dir, \n",
    "                            start_datetime=start_datetime.strftime('%m-%d-%Y %H'), \n",
    "                            end_datetime=end_datetime.strftime('%m-%d-%Y %H'),\n",
    "                            dcline_prop=dcline_prop,\n",
    "                            esr_prop=None,\n",
    "                            vre_prop=vre_prop,\n",
    "                            verbose=True)\n",
    "\n",
    "# Set load and generation time series data\n",
    "nygrid_sim_1_w_vre.set_load_sch(load_profile)\n",
    "nygrid_sim_1_w_vre.set_gen_mw_sch(gen_profile)\n",
    "nygrid_sim_1_w_vre.set_gen_max_sch(genmax_profile)\n",
    "nygrid_sim_1_w_vre.set_vre_max_sch(genmax_profile_vre)\n",
    "nygrid_sim_1_w_vre.set_gen_min_sch(genmin_profile)\n",
    "nygrid_sim_1_w_vre.set_gen_ramp_sch(genramp30_profile)\n",
    "nygrid_sim_1_w_vre.set_gen_cost_sch(gencost0_profile, gencost1_profile)\n",
    "\n",
    "# Relax branch flow limits\n",
    "nygrid_sim_1_w_vre.relax_external_branch_lim()\n",
    "\n",
    "# Set generator initial condition\n",
    "last_gen = results_0_w_vre['PG'].loc[start_datetime].to_numpy().squeeze()\n",
    "nygrid_sim_1_w_vre.set_gen_init_data(gen_init=last_gen)\n",
    "\n",
    "# Set options\n",
    "# Set options\n",
    "options = {\n",
    "    'UsePTDF': True,\n",
    "    'solver': 'gurobi',\n",
    "    'PenaltyForLoadShed': 20_000,\n",
    "    'PenaltyForBranchMwViolation': 10_000,\n",
    "    'PenaltyForInterfaceMWViolation': 10_000\n",
    "}\n",
    "\n",
    "nygrid_sim_1_w_vre.set_options(options)\n",
    "\n",
    "# Solve DC OPF\n",
    "nygrid_sim_1_w_vre.solve_dc_opf()\n",
    "\n",
    "# Get results\n",
    "results_1_w_vre = nygrid_sim_1_w_vre.get_results_dc_opf()"
   ],
   "metadata": {
    "collapsed": false,
    "ExecuteTime": {
     "end_time": "2024-01-31T05:48:48.666228700Z",
     "start_time": "2024-01-31T05:48:06.826642100Z"
    }
   },
   "execution_count": 37,
   "outputs": []
  },
  {
   "cell_type": "code",
   "source": [
    "print(\"s_ramp_up\", results_1_w_vre['s_ramp_up'].sum())\n",
    "print(\"s_ramp_down\", results_1_w_vre['s_ramp_down'].sum())\n",
    "print(\"s_over_gen\", results_1_w_vre['s_over_gen'].sum())\n",
    "print(\"s_load_shed\", results_1_w_vre['s_load_shed'].sum())\n",
    "print(\"s_if_max\", results_1_w_vre['s_if_max'].sum())\n",
    "print(\"s_if_min\", results_1_w_vre['s_if_min'].sum())\n",
    "print(\"s_br_max\", results_1_w_vre['s_br_max'].sum())\n",
    "print(\"s_br_min\", results_1_w_vre['s_br_min'].sum())"
   ],
   "metadata": {
    "collapsed": false,
    "ExecuteTime": {
     "end_time": "2024-01-31T05:48:48.691218900Z",
     "start_time": "2024-01-31T05:48:48.669224100Z"
    }
   },
   "execution_count": 38,
   "outputs": []
  },
  {
   "cell_type": "markdown",
   "source": [
    "#### With VRE and ESR"
   ],
   "metadata": {
    "collapsed": false
   }
  },
  {
   "cell_type": "code",
   "source": [
    "# Create NYGrid object\n",
    "nygrid_sim_1_w_vre_esr = NYGrid(grid_data_dir, \n",
    "                            start_datetime=start_datetime.strftime('%m-%d-%Y %H'), \n",
    "                            end_datetime=end_datetime.strftime('%m-%d-%Y %H'),\n",
    "                            dcline_prop=dcline_prop,\n",
    "                            esr_prop=esr_prop,\n",
    "                            vre_prop=vre_prop,\n",
    "                            verbose=True)\n",
    "\n",
    "# Set load and generation time series data\n",
    "nygrid_sim_1_w_vre_esr.set_load_sch(load_profile)\n",
    "nygrid_sim_1_w_vre_esr.set_gen_mw_sch(gen_profile)\n",
    "nygrid_sim_1_w_vre_esr.set_gen_max_sch(genmax_profile)\n",
    "nygrid_sim_1_w_vre_esr.set_vre_max_sch(genmax_profile_vre)\n",
    "nygrid_sim_1_w_vre_esr.set_gen_min_sch(genmin_profile)\n",
    "nygrid_sim_1_w_vre_esr.set_gen_ramp_sch(genramp30_profile)\n",
    "nygrid_sim_1_w_vre_esr.set_gen_cost_sch(gencost0_profile, gencost1_profile)\n",
    "\n",
    "# Relax branch flow limits\n",
    "nygrid_sim_1_w_vre_esr.relax_external_branch_lim()\n",
    "\n",
    "# Set generator initial condition\n",
    "last_gen = results_0_w_vre_esr['PG'].loc[start_datetime].to_numpy().squeeze()\n",
    "nygrid_sim_1_w_vre_esr.set_gen_init_data(gen_init=last_gen)\n",
    "\n",
    "# Set options\n",
    "options = {\n",
    "    'UsePTDF': True,\n",
    "    'solver': 'gurobi',\n",
    "    'PenaltyForLoadShed': 20_000,\n",
    "    'PenaltyForBranchMwViolation': 10_000,\n",
    "    'PenaltyForInterfaceMWViolation': 10_000\n",
    "}\n",
    "\n",
    "nygrid_sim_1_w_vre_esr.set_options(options)\n",
    "\n",
    "# Solve DC OPF\n",
    "nygrid_sim_1_w_vre_esr.solve_dc_opf()\n",
    "\n",
    "# Get results\n",
    "results_1_w_vre_esr = nygrid_sim_1_w_vre_esr.get_results_dc_opf()"
   ],
   "metadata": {
    "collapsed": false,
    "ExecuteTime": {
     "end_time": "2024-01-31T05:49:28.906355700Z",
     "start_time": "2024-01-31T05:48:48.687218700Z"
    }
   },
   "execution_count": 39,
   "outputs": []
  },
  {
   "cell_type": "code",
   "source": [
    "print(\"s_ramp_up\", results_1_w_vre_esr['s_ramp_up'].sum())\n",
    "print(\"s_ramp_down\", results_1_w_vre_esr['s_ramp_down'].sum())\n",
    "print(\"s_over_gen\", results_1_w_vre_esr['s_over_gen'].sum())\n",
    "print(\"s_load_shed\", results_1_w_vre_esr['s_load_shed'].sum())\n",
    "print(\"s_if_max\", results_1_w_vre_esr['s_if_max'].sum())\n",
    "print(\"s_if_min\", results_1_w_vre_esr['s_if_min'].sum())\n",
    "print(\"s_br_max\", results_1_w_vre_esr['s_br_max'].sum())\n",
    "print(\"s_br_min\", results_1_w_vre_esr['s_br_min'].sum())"
   ],
   "metadata": {
    "collapsed": false,
    "ExecuteTime": {
     "end_time": "2024-01-31T05:49:28.931852300Z",
     "start_time": "2024-01-31T05:49:28.906355700Z"
    }
   },
   "execution_count": 40,
   "outputs": []
  },
  {
   "cell_type": "markdown",
   "metadata": {},
   "source": [
    "## Process the results"
   ]
  },
  {
   "cell_type": "code",
   "execution_count": 41,
   "metadata": {
    "ExecuteTime": {
     "end_time": "2024-01-31T05:49:28.988049400Z",
     "start_time": "2024-01-31T05:49:28.929278400Z"
    }
   },
   "source": [
    "# Read thermal generator info table\n",
    "filename = os.path.join(grid_data_dir, 'genInfo.csv')\n",
    "gen_info = pd.read_csv(filename)\n",
    "num_thermal = gen_info.shape[0]\n",
    "gen_rename = {gen_info.index[i]: gen_info.NYISOName[i] for i in range(num_thermal)}\n",
    "gen_info"
   ],
   "outputs": []
  },
  {
   "cell_type": "code",
   "execution_count": 42,
   "metadata": {
    "ExecuteTime": {
     "end_time": "2024-01-31T05:49:29.063677600Z",
     "start_time": "2024-01-31T05:49:28.969869800Z"
    }
   },
   "source": [
    "# Format results\n",
    "results_pg_0_wo_esr = results_0_wo_esr['PG']\n",
    "thermal_pg_0_wo_esr = results_pg_0_wo_esr.iloc[:, :num_thermal]\n",
    "thermal_pg_0_wo_esr = thermal_pg_0_wo_esr.rename(columns=gen_rename)\n",
    "print(thermal_pg_0_wo_esr.head())\n",
    "\n",
    "results_pg_0_w_esr = results_0_w_esr['PG']\n",
    "thermal_pg_0_w_esr = results_pg_0_w_esr.iloc[:, :num_thermal]\n",
    "thermal_pg_0_w_esr = thermal_pg_0_w_esr.rename(columns=gen_rename)\n",
    "print(thermal_pg_0_w_esr.head())\n",
    "\n",
    "results_pg_1_wo_esr = results_1_wo_esr['PG']\n",
    "thermal_pg_1_wo_esr = results_pg_1_wo_esr.iloc[:, :num_thermal]\n",
    "thermal_pg_1_wo_esr = thermal_pg_1_wo_esr.rename(columns=gen_rename)\n",
    "print(thermal_pg_1_wo_esr.head())\n",
    "\n",
    "results_pg_1_w_esr = results_1_w_esr['PG']\n",
    "thermal_pg_1_w_esr = results_pg_1_w_esr.iloc[:, :num_thermal]\n",
    "thermal_pg_1_w_esr = thermal_pg_1_w_esr.rename(columns=gen_rename)\n",
    "print(thermal_pg_1_w_esr.head())"
   ],
   "outputs": []
  },
  {
   "cell_type": "code",
   "execution_count": 43,
   "metadata": {
    "ExecuteTime": {
     "end_time": "2024-01-31T05:49:29.066682800Z",
     "start_time": "2024-01-31T05:49:29.034196400Z"
    }
   },
   "source": [
    "def plot_gen(thermal_pg, genhist, genmax, genmin, idx, title=None, ax=None):\n",
    "\n",
    "    ax.plot(thermal_pg.index, thermal_pg.iloc[:, idx], marker='*', label='OPF')\n",
    "    ax.plot(thermal_pg.index, genhist[start_datetime:end_datetime].iloc[:,idx], marker='o', label='historical')\n",
    "    ax.plot(thermal_pg.index, genmax[start_datetime:end_datetime].iloc[:,idx], linestyle='--', label='max')\n",
    "    ax.plot(thermal_pg.index, genmin[start_datetime:end_datetime].iloc[:,idx], linestyle='--', label='min')\n",
    "    ax.legend()\n",
    "    ax.set_title(title)\n",
    "\n",
    "    return ax"
   ],
   "outputs": []
  },
  {
   "cell_type": "code",
   "source": [
    "gen_profile[start_datetime:end_datetime]"
   ],
   "metadata": {
    "collapsed": false,
    "ExecuteTime": {
     "end_time": "2024-01-31T05:49:29.326858700Z",
     "start_time": "2024-01-31T05:49:29.043901900Z"
    }
   },
   "execution_count": 44,
   "outputs": []
  },
  {
   "cell_type": "code",
   "execution_count": 45,
   "metadata": {
    "ExecuteTime": {
     "end_time": "2024-01-31T05:49:29.980282200Z",
     "start_time": "2024-01-31T05:49:29.128352500Z"
    }
   },
   "source": [
    "ii = 3\n",
    "print(gen_info.iloc[ii, :])\n",
    "fig, axs = plt.subplots(2, 2, figsize=(12, 8))\n",
    "axs[0, 0] = plot_gen(thermal_pg_0_wo_esr, gen_profile, genmax_profile, genmin_profile, ii, title=gen_info.NYISOName[ii], ax=axs[0, 0])\n",
    "axs[0, 1] = plot_gen(thermal_pg_0_w_esr, gen_profile, genmax_profile, genmin_profile, ii, title=gen_info.NYISOName[ii], ax=axs[0, 1])\n",
    "axs[1, 0] = plot_gen(thermal_pg_1_wo_esr, gen_profile, genmax_profile, genmin_profile, ii, title=gen_info.NYISOName[ii], ax=axs[1, 0])\n",
    "axs[1, 1] = plot_gen(thermal_pg_1_w_esr, gen_profile, genmax_profile, genmin_profile, ii, title=gen_info.NYISOName[ii], ax=axs[1, 1])\n",
    "fig.tight_layout()"
   ],
   "outputs": []
  },
  {
   "cell_type": "code",
   "execution_count": 46,
   "metadata": {
    "ExecuteTime": {
     "end_time": "2024-01-31T05:49:30.851364200Z",
     "start_time": "2024-01-31T05:49:29.966017800Z"
    }
   },
   "source": [
    "ii = 9\n",
    "print(gen_info.iloc[ii, :])\n",
    "fig, axs = plt.subplots(2, 2, figsize=(12, 8))\n",
    "axs[0, 0] = plot_gen(thermal_pg_0_wo_esr, gen_profile, genmax_profile, genmin_profile, ii, title=gen_info.NYISOName[ii], ax=axs[0, 0])\n",
    "axs[0, 1] = plot_gen(thermal_pg_0_w_esr, gen_profile, genmax_profile, genmin_profile, ii, title=gen_info.NYISOName[ii], ax=axs[0, 1])\n",
    "axs[1, 0] = plot_gen(thermal_pg_1_wo_esr, gen_profile, genmax_profile, genmin_profile, ii, title=gen_info.NYISOName[ii], ax=axs[1, 0])\n",
    "axs[1, 1] = plot_gen(thermal_pg_1_w_esr, gen_profile, genmax_profile, genmin_profile, ii, title=gen_info.NYISOName[ii], ax=axs[1, 1])\n",
    "fig.tight_layout()\n"
   ],
   "outputs": []
  },
  {
   "cell_type": "code",
   "execution_count": 47,
   "metadata": {
    "ExecuteTime": {
     "end_time": "2024-01-31T05:49:31.517344Z",
     "start_time": "2024-01-31T05:49:30.838545200Z"
    }
   },
   "source": [
    "ii = 83\n",
    "print(gen_info.iloc[ii, :])\n",
    "fig, axs = plt.subplots(2, 2, figsize=(12, 8))\n",
    "axs[0, 0] = plot_gen(thermal_pg_0_wo_esr, gen_profile, genmax_profile, genmin_profile, ii, title=gen_info.NYISOName[ii], ax=axs[0, 0])\n",
    "axs[0, 1] = plot_gen(thermal_pg_0_w_esr, gen_profile, genmax_profile, genmin_profile, ii, title=gen_info.NYISOName[ii], ax=axs[0, 1])\n",
    "axs[1, 0] = plot_gen(thermal_pg_1_wo_esr, gen_profile, genmax_profile, genmin_profile, ii, title=gen_info.NYISOName[ii], ax=axs[1, 0])\n",
    "axs[1, 1] = plot_gen(thermal_pg_1_w_esr, gen_profile, genmax_profile, genmin_profile, ii, title=gen_info.NYISOName[ii], ax=axs[1, 1])\n",
    "plt.show()"
   ],
   "outputs": []
  },
  {
   "cell_type": "code",
   "source": [],
   "metadata": {
    "collapsed": false,
    "ExecuteTime": {
     "end_time": "2024-01-31T05:49:31.519461500Z",
     "start_time": "2024-01-31T05:49:31.495560800Z"
    }
   },
   "execution_count": 47,
   "outputs": []
  }
 ],
 "metadata": {
  "interpreter": {
   "hash": "f1e7b9e5b0ccd18e373e44bae5bf3ffa8873ffa9b0a195a69c8a44ccfc15a04d"
  },
  "kernelspec": {
   "display_name": "NYgrid-python",
   "language": "python",
   "name": "python3"
  },
  "language_info": {
   "codemirror_mode": {
    "name": "ipython",
    "version": 3
   },
   "file_extension": ".py",
   "mimetype": "text/x-python",
   "name": "python",
   "nbconvert_exporter": "python",
   "pygments_lexer": "ipython3",
   "version": "3.8.16"
  }
 },
 "nbformat": 4,
 "nbformat_minor": 2
}
