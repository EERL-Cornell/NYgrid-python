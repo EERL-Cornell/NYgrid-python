{
 "cells": [
  {
   "attachments": {},
   "cell_type": "markdown",
   "metadata": {},
   "source": [
    "# Multi-period OPF with renewable example\n",
    "\n",
    "Renewable generations are treated as negative load at each buses.\n",
    "\n",
    "Renewable generations include current solar (NY-Sun), future solar (GIS), onshore wind (USWTDB), and offshore wind (NYSERDA, GIS)."
   ]
  },
  {
   "cell_type": "code",
   "execution_count": 1,
   "metadata": {
    "ExecuteTime": {
     "end_time": "2024-01-31T04:13:48.211081400Z",
     "start_time": "2024-01-31T04:13:46.169111100Z"
    }
   },
   "source": [
    "import os\n",
    "import numpy as np\n",
    "import pandas as pd\n",
    "import matplotlib.pyplot as plt\n",
    "from datetime import datetime, timedelta\n",
    "from nygrid.nygrid import NYGrid"
   ],
   "outputs": []
  },
  {
   "cell_type": "code",
   "execution_count": 2,
   "metadata": {
    "ExecuteTime": {
     "end_time": "2024-01-31T04:13:48.224927100Z",
     "start_time": "2024-01-31T04:13:48.214197600Z"
    }
   },
   "source": [
    "# Set up directories\n",
    "cwd = os.getcwd()\n",
    "if 'examples' in cwd:\n",
    "    parent_dir = os.path.dirname(cwd)\n",
    "    data_dir = os.path.join(parent_dir, 'data')\n",
    "else:\n",
    "    data_dir = os.path.join(cwd, 'data')\n",
    "\n",
    "grid_data_dir = os.path.join(data_dir, 'grid')\n",
    "if not os.path.exists(grid_data_dir):\n",
    "    raise FileNotFoundError('Grid data directory not found.')\n",
    "\n",
    "print('Grid data directory: {}'.format(grid_data_dir))\n",
    "\n",
    "fig_dir = os.path.join(os.path.dirname(data_dir), 'figures')\n",
    "print('Figure directory: {}'.format(fig_dir))\n",
    "\n",
    "results_dir = os.path.join(os.path.dirname(data_dir), 'results')\n",
    "print('Results directory: {}'.format(results_dir))\n",
    "\n",
    "solar_data_dir = os.path.join(data_dir, 'solar')\n",
    "print('Solar data directory: {}'.format(solar_data_dir))\n",
    "\n",
    "onshore_wind_data_dir = os.path.join(data_dir, 'onshore_wind')\n",
    "print('Onshore wind data directory: {}'.format(onshore_wind_data_dir))\n",
    "\n",
    "offshore_wind_data_dir = os.path.join(data_dir, 'offshore_wind')\n",
    "print('Offshore wind data directory: {}'.format(offshore_wind_data_dir))"
   ],
   "outputs": []
  },
  {
   "attachments": {},
   "cell_type": "markdown",
   "metadata": {},
   "source": [
    "## Read grid data"
   ]
  },
  {
   "cell_type": "markdown",
   "source": [
    "### Read generator profiles"
   ],
   "metadata": {
    "collapsed": false
   }
  },
  {
   "cell_type": "code",
   "execution_count": 3,
   "metadata": {
    "ExecuteTime": {
     "end_time": "2024-01-31T04:13:49.813355700Z",
     "start_time": "2024-01-31T04:13:48.231646200Z"
    }
   },
   "source": [
    "start_date = datetime(2018, 1, 1, 0, 0, 0)\n",
    "end_date = datetime(2019, 1, 1, 0, 0, 0)\n",
    "timestamp_list = pd.date_range(start_date, end_date, freq='1D')\n",
    "\n",
    "# Read load profile\n",
    "load_profile = pd.read_csv(os.path.join(grid_data_dir, f'load_profile_{start_date.year}.csv'), \n",
    "                           parse_dates=['TimeStamp'], index_col='TimeStamp').asfreq('H')\n",
    "\n",
    "# Read generation profile\n",
    "gen_profile = pd.read_csv(os.path.join(grid_data_dir, f'gen_profile_{start_date.year}.csv'), \n",
    "                           parse_dates=['TimeStamp'], index_col='TimeStamp').asfreq('H')\n",
    "\n",
    "# Read generator capacity limit profile\n",
    "genmax_profile = pd.read_csv(os.path.join(grid_data_dir, f'genmax_profile_{start_date.year}.csv'), \n",
    "                           parse_dates=['TimeStamp'], index_col='TimeStamp').asfreq('H')\n",
    "\n",
    "genmin_profile = pd.read_csv(os.path.join(grid_data_dir, f'genmin_profile_{start_date.year}.csv'), \n",
    "                           parse_dates=['TimeStamp'], index_col='TimeStamp').asfreq('H')\n",
    "\n",
    "# Read generator ramp rate profile\n",
    "genramp30_profile = pd.read_csv(os.path.join(grid_data_dir, f'genramp30_profile_{start_date.year}.csv'), \n",
    "                           parse_dates=['TimeStamp'], index_col='TimeStamp').asfreq('H')\n",
    "\n",
    "# Read generator cost profile (linear)\n",
    "gencost0_profile = pd.read_csv(os.path.join(grid_data_dir, f'gencost0_profile_{start_date.year}.csv'), \n",
    "                           parse_dates=['TimeStamp'], index_col='TimeStamp').asfreq('H')\n",
    "\n",
    "gencost1_profile = pd.read_csv(os.path.join(grid_data_dir, f'gencost1_profile_{start_date.year}.csv'), \n",
    "                           parse_dates=['TimeStamp'], index_col='TimeStamp').asfreq('H')"
   ],
   "outputs": []
  },
  {
   "cell_type": "code",
   "source": [
    "load_profile.sum(axis=1).sort_values(ascending=False)"
   ],
   "metadata": {
    "collapsed": false,
    "ExecuteTime": {
     "end_time": "2024-01-31T04:13:49.870762Z",
     "start_time": "2024-01-31T04:13:49.818141900Z"
    }
   },
   "execution_count": 4,
   "outputs": []
  },
  {
   "attachments": {},
   "cell_type": "markdown",
   "metadata": {},
   "source": [
    "### Read variable renewable energy (VRE) data"
   ]
  },
  {
   "cell_type": "code",
   "execution_count": 5,
   "metadata": {
    "ExecuteTime": {
     "end_time": "2024-01-31T04:13:54.030100200Z",
     "start_time": "2024-01-31T04:13:49.850388600Z"
    }
   },
   "source": [
    "# Renewable generation time series\n",
    "current_solar_gen = pd.read_csv(os.path.join(solar_data_dir, f'current_solar_gen_1hr.csv'),\n",
    "                                parse_dates=['Time'], index_col='Time').asfreq('H')\n",
    "current_solar_gen.columns = current_solar_gen.columns.astype(int)\n",
    "\n",
    "future_solar_gen = pd.read_csv(os.path.join(solar_data_dir, f'future_solar_gen_1hr.csv'),\n",
    "                                parse_dates=['Time'], index_col='Time').asfreq('H')\n",
    "future_solar_gen.columns = future_solar_gen.columns.astype(int)\n",
    "\n",
    "onshore_wind_gen = pd.read_csv(os.path.join(onshore_wind_data_dir, f'current_wind_gen_1hr.csv'),\n",
    "                                parse_dates=['Time'], index_col='Time').asfreq('H')\n",
    "onshore_wind_gen.columns = onshore_wind_gen.columns.astype(int)\n",
    "\n",
    "offshore_wind_gen = pd.read_csv(os.path.join(offshore_wind_data_dir, f'power_load_2018.csv'),\n",
    "                                parse_dates=['timestamp'], index_col='timestamp')\n",
    "offshore_wind_gen.index = offshore_wind_gen.index.tz_localize('US/Eastern', ambiguous='infer')\n",
    "offshore_wind_gen.index.freq = 'H'\n",
    "\n",
    "# Wind farm capacity info\n",
    "capacity = [816, 1260, 924, 1230]\n",
    "capacity_nyc, capacity_li = np.sum(capacity[:2]), np.sum(capacity[2:])\n",
    "\n",
    "# Correct offshore wind generation\n",
    "offshore_wind_gen['power_nyc'] = np.where(offshore_wind_gen['power_nyc'] > capacity_nyc, capacity_nyc, offshore_wind_gen['power_nyc'])\n",
    "offshore_wind_gen['power_li'] = np.where(offshore_wind_gen['power_li'] > capacity_li, capacity_li, offshore_wind_gen['power_li'])"
   ],
   "outputs": []
  },
  {
   "cell_type": "code",
   "execution_count": 6,
   "metadata": {
    "ExecuteTime": {
     "end_time": "2024-01-31T04:13:54.186216200Z",
     "start_time": "2024-01-31T04:13:54.035460200Z"
    }
   },
   "source": [
    "# Renewable allocation table\n",
    "current_solar_2bus = pd.read_csv(os.path.join(solar_data_dir, f'solar_farms_2bus.csv'), index_col='zip_code')\n",
    "future_solar_2bus = pd.read_csv(os.path.join(solar_data_dir, f'future_solar_farms_2bus.csv'), index_col=0)\n",
    "onshore_wind_2bus = pd.read_csv(os.path.join(onshore_wind_data_dir, f'onshore_wind_2bus.csv'), index_col=0)\n",
    "\n",
    "# Aggregate current solar generation\n",
    "groupby_dict = current_solar_2bus['busIdx'].to_dict()\n",
    "current_solar_gen_agg = current_solar_gen.groupby(groupby_dict, axis=1).sum()\n",
    "current_solar_gen_agg = current_solar_gen_agg/1e3 # convert from kW to MW\n",
    "\n",
    "# Aggregate future solar generation\n",
    "groupby_dict = future_solar_2bus['busIdx'].to_dict()\n",
    "future_solar_gen_agg = future_solar_gen.groupby(groupby_dict, axis=1).sum()\n",
    "future_solar_gen_agg = future_solar_gen_agg/1e3 # convert from kW to MW\n",
    "\n",
    "# Aggregate onshore wind generation\n",
    "groupby_dict = onshore_wind_2bus['busIdx'].to_dict()\n",
    "onshore_wind_gen_agg = onshore_wind_gen.groupby(groupby_dict, axis=1).sum()\n",
    "onshore_wind_gen_agg = onshore_wind_gen_agg/1e3 # convert from kW to MW\n",
    "\n",
    "# Aggregate offshore wind generation\n",
    "offshore_wind_gen_agg = offshore_wind_gen[['power_nyc', 'power_li']].rename(\n",
    "    columns={'power_nyc': 81, 'power_li': 82})"
   ],
   "outputs": []
  },
  {
   "cell_type": "code",
   "source": [
    "fig, axs = plt.subplots(4, 1, figsize=(8, 6),\n",
    "                        sharex='all')\n",
    "axs[0].plot(current_solar_gen_agg.sum(axis=1), label='Current solar')\n",
    "axs[1].plot(future_solar_gen_agg.sum(axis=1), label='Future solar')\n",
    "axs[2].plot(onshore_wind_gen_agg.sum(axis=1), label='Onshore wind')\n",
    "axs[3].plot(offshore_wind_gen_agg.sum(axis=1), label='Offshore wind')\n",
    "\n",
    "titles = ['Current solar', 'Future solar', 'Onshore wind', 'Offshore wind']\n",
    "\n",
    "for i, ax in enumerate(axs):\n",
    "    ax.set_title(titles[i])\n",
    "\n",
    "fig.supxlabel('Hour of year')\n",
    "fig.supylabel('Power (MW)')\n",
    "fig.suptitle('Generation time series')\n",
    "fig.tight_layout()"
   ],
   "metadata": {
    "collapsed": false,
    "ExecuteTime": {
     "end_time": "2024-01-31T04:13:55.098585Z",
     "start_time": "2024-01-31T04:13:54.191566500Z"
    }
   },
   "execution_count": 7,
   "outputs": []
  },
  {
   "cell_type": "code",
   "source": [
    "# 18.08% of current solar generation is built before 2018 (base year)\n",
    "# Scale down current solar generation by 18.08%\n",
    "pct_current_solar_built = 0.1808\n",
    "current_solar_gen_agg = current_solar_gen_agg * (1-pct_current_solar_built)\n",
    "\n",
    "# 90.6% of onshore wind generation is built before 2018 (base year)\n",
    "# Scale down onshore wind generation by 90.6%\n",
    "pct_onshore_wind_built = 0.906\n",
    "onshore_wind_gen_agg = onshore_wind_gen_agg * (1-pct_onshore_wind_built)"
   ],
   "metadata": {
    "collapsed": false,
    "ExecuteTime": {
     "end_time": "2024-01-31T04:13:55.133712900Z",
     "start_time": "2024-01-31T04:13:55.099838700Z"
    }
   },
   "execution_count": 8,
   "outputs": []
  },
  {
   "cell_type": "code",
   "source": [
    "vre_profiles = {'CurSol': current_solar_gen_agg,\n",
    "                'FutSol': future_solar_gen_agg,\n",
    "                'OnWind': onshore_wind_gen_agg,\n",
    "                'OffWind': offshore_wind_gen_agg}\n",
    "vre_prop_list = list()\n",
    "for key, profile in vre_profiles.items():\n",
    "    vre_prop_a = pd.DataFrame(data={'VRE_BUS': profile.columns,\n",
    "                                    'VRE_PMAX': profile.max(axis=0),\n",
    "                                    'VRE_PMIN': 0,\n",
    "                                    'VRE_TYPE': 'Solar',\n",
    "                                    'VRE_NAME': [f'{key}_{col}' for col in profile.columns]})\n",
    "    vre_prop_list.append(vre_prop_a)\n",
    "    \n",
    "# Combine gen_prop tables\n",
    "vre_prop = pd.concat(vre_prop_list, ignore_index=True)\n",
    "vre_prop"
   ],
   "metadata": {
    "collapsed": false,
    "ExecuteTime": {
     "end_time": "2024-01-31T04:13:55.186570500Z",
     "start_time": "2024-01-31T04:13:55.114984800Z"
    }
   },
   "execution_count": 9,
   "outputs": []
  },
  {
   "cell_type": "code",
   "source": [
    "# Combine genmax tables\n",
    "genmax_profile_vre = pd.concat([current_solar_gen_agg, future_solar_gen_agg,\n",
    "                                onshore_wind_gen_agg, offshore_wind_gen_agg], axis=1)\n",
    "genmax_profile_vre.columns = vre_prop['VRE_NAME']\n",
    "genmax_profile_vre.index = genmax_profile_vre.index.tz_convert('US/Eastern').tz_localize(None)\n",
    "genmax_profile_vre"
   ],
   "metadata": {
    "collapsed": false,
    "ExecuteTime": {
     "end_time": "2024-01-31T04:13:55.241773800Z",
     "start_time": "2024-01-31T04:13:55.146721600Z"
    }
   },
   "execution_count": 10,
   "outputs": []
  },
  {
   "cell_type": "markdown",
   "source": [
    "### Read DC line and ESR properties"
   ],
   "metadata": {
    "collapsed": false
   }
  },
  {
   "cell_type": "code",
   "source": [
    "# Read DC line property file\n",
    "filename = os.path.join(grid_data_dir, 'dcline_prop.csv')\n",
    "dcline_prop = pd.read_csv(filename, index_col=0)\n",
    "dcline_prop"
   ],
   "metadata": {
    "collapsed": false,
    "ExecuteTime": {
     "end_time": "2024-01-31T04:13:55.426331900Z",
     "start_time": "2024-01-31T04:13:55.189901900Z"
    }
   },
   "execution_count": 11,
   "outputs": []
  },
  {
   "cell_type": "code",
   "source": [
    "filename = os.path.join(grid_data_dir, 'esr_prop.csv')\n",
    "esr_prop = pd.read_csv(filename, index_col=0)\n",
    "esr_prop"
   ],
   "metadata": {
    "collapsed": false,
    "ExecuteTime": {
     "end_time": "2024-01-31T04:13:55.491255900Z",
     "start_time": "2024-01-31T04:13:55.224003700Z"
    }
   },
   "execution_count": 12,
   "outputs": []
  },
  {
   "attachments": {},
   "cell_type": "markdown",
   "metadata": {},
   "source": [
    "## Multi-period OPF"
   ]
  },
  {
   "attachments": {},
   "cell_type": "markdown",
   "metadata": {},
   "source": [
    "### Without initial conditions"
   ]
  },
  {
   "cell_type": "code",
   "execution_count": 13,
   "metadata": {
    "ExecuteTime": {
     "end_time": "2024-01-31T04:13:55.493431900Z",
     "start_time": "2024-01-31T04:13:55.282380800Z"
    }
   },
   "source": [
    "# Only run for one day\n",
    "d = 240\n",
    "start_datetime = timestamp_list[d]\n",
    "end_datetime = start_datetime + timedelta(hours=23)\n",
    "print(f'Start time: {start_datetime}')\n",
    "print(f'End time: {end_datetime}')"
   ],
   "outputs": []
  },
  {
   "cell_type": "markdown",
   "source": [
    "#### Without ESR"
   ],
   "metadata": {
    "collapsed": false
   }
  },
  {
   "cell_type": "code",
   "execution_count": 14,
   "metadata": {
    "ExecuteTime": {
     "end_time": "2024-01-31T04:14:10.479832400Z",
     "start_time": "2024-01-31T04:13:55.309829100Z"
    }
   },
   "source": [
    "# Create NYGrid object\n",
    "nygrid_sim_wo_esr = NYGrid(grid_data_dir, \n",
    "                            start_datetime=start_datetime.strftime('%m-%d-%Y %H'), \n",
    "                            end_datetime=end_datetime.strftime('%m-%d-%Y %H'),\n",
    "                            dcline_prop=dcline_prop,\n",
    "                            esr_prop=None,\n",
    "                            vre_prop=None,\n",
    "                            verbose=True)\n",
    "\n",
    "# Set load and generation time series data\n",
    "nygrid_sim_wo_esr.set_load_sch(load_profile)\n",
    "nygrid_sim_wo_esr.set_gen_mw_sch(gen_profile)\n",
    "nygrid_sim_wo_esr.set_gen_max_sch(genmax_profile)\n",
    "nygrid_sim_wo_esr.set_gen_min_sch(genmin_profile)\n",
    "nygrid_sim_wo_esr.set_gen_ramp_sch(genramp30_profile)\n",
    "nygrid_sim_wo_esr.set_gen_cost_sch(gencost0_profile, gencost1_profile)\n",
    "\n",
    "# Relax branch flow limits\n",
    "nygrid_sim_wo_esr.relax_external_branch_lim()\n",
    "\n",
    "# Set generator initial condition\n",
    "nygrid_sim_wo_esr.set_gen_init_data(gen_init=None)\n",
    "\n",
    "# Set options\n",
    "options = {\n",
    "    'UsePTDF': True,\n",
    "    'solver': 'gurobi',\n",
    "    'PenaltyForLoadShed': 20_000,\n",
    "    'PenaltyForBranchMwViolation': 10_000,\n",
    "    'PenaltyForInterfaceMWViolation': 10_000\n",
    "}\n",
    "\n",
    "nygrid_sim_wo_esr.set_options(options)\n",
    "\n",
    "# Solve DC OPF\n",
    "nygrid_sim_wo_esr.solve_dc_opf()\n",
    "\n",
    "# Get results\n",
    "results_0_wo_esr = nygrid_sim_wo_esr.get_results_dc_opf()"
   ],
   "outputs": []
  },
  {
   "cell_type": "code",
   "execution_count": 15,
   "metadata": {
    "ExecuteTime": {
     "end_time": "2024-01-31T04:14:10.516237600Z",
     "start_time": "2024-01-31T04:14:10.485108400Z"
    }
   },
   "source": [
    "print(\"s_ramp_up\", results_0_wo_esr['s_ramp_up'].sum())\n",
    "print(\"s_ramp_down\", results_0_wo_esr['s_ramp_down'].sum())\n",
    "print(\"s_over_gen\", results_0_wo_esr['s_over_gen'].sum())\n",
    "print(\"s_load_shed\", results_0_wo_esr['s_load_shed'].sum())\n",
    "print(\"s_if_max\", results_0_wo_esr['s_if_max'].sum())\n",
    "print(\"s_if_min\", results_0_wo_esr['s_if_min'].sum())\n",
    "print(\"s_br_max\", results_0_wo_esr['s_br_max'].sum())\n",
    "print(\"s_br_min\", results_0_wo_esr['s_br_min'].sum())"
   ],
   "outputs": []
  },
  {
   "cell_type": "markdown",
   "source": [
    "#### With ESR"
   ],
   "metadata": {
    "collapsed": false
   }
  },
  {
   "cell_type": "code",
   "source": [
    "# Create NYGrid object\n",
    "nygrid_sim_w_esr = NYGrid(grid_data_dir, \n",
    "                          start_datetime=start_datetime.strftime('%m-%d-%Y %H'), \n",
    "                          end_datetime=end_datetime.strftime('%m-%d-%Y %H'),\n",
    "                          dcline_prop=dcline_prop,\n",
    "                          esr_prop=esr_prop,\n",
    "                          vre_prop=None,\n",
    "                          verbose=True)\n",
    "\n",
    "# Set load and generation time series data\n",
    "nygrid_sim_w_esr.set_load_sch(load_profile)\n",
    "nygrid_sim_w_esr.set_gen_mw_sch(gen_profile)\n",
    "nygrid_sim_w_esr.set_gen_max_sch(genmax_profile)\n",
    "nygrid_sim_w_esr.set_gen_min_sch(genmin_profile)\n",
    "nygrid_sim_w_esr.set_gen_ramp_sch(genramp30_profile)\n",
    "nygrid_sim_w_esr.set_gen_cost_sch(gencost0_profile, gencost1_profile)\n",
    "\n",
    "# Relax branch flow limits\n",
    "nygrid_sim_w_esr.relax_external_branch_lim()\n",
    "\n",
    "# Set generator initial condition\n",
    "nygrid_sim_w_esr.set_gen_init_data(gen_init=None)\n",
    "\n",
    "# Set options\n",
    "options = {\n",
    "    'UsePTDF': True,\n",
    "    'solver': 'gurobi',\n",
    "    'PenaltyForLoadShed': 20_000,\n",
    "    'PenaltyForBranchMwViolation': 10_000,\n",
    "    'PenaltyForInterfaceMWViolation': 10_000\n",
    "}\n",
    "\n",
    "nygrid_sim_w_esr.set_options(options)\n",
    "\n",
    "# Solve DC OPF\n",
    "nygrid_sim_w_esr.solve_dc_opf()\n",
    "\n",
    "# Get results\n",
    "results_0_w_esr = nygrid_sim_w_esr.get_results_dc_opf()"
   ],
   "metadata": {
    "collapsed": false,
    "ExecuteTime": {
     "end_time": "2024-01-31T04:14:25.041235400Z",
     "start_time": "2024-01-31T04:14:10.502673800Z"
    }
   },
   "execution_count": 16,
   "outputs": []
  },
  {
   "cell_type": "code",
   "source": [
    "print(\"s_ramp_up\", results_0_w_esr['s_ramp_up'].sum())\n",
    "print(\"s_ramp_down\", results_0_w_esr['s_ramp_down'].sum())\n",
    "print(\"s_over_gen\", results_0_w_esr['s_over_gen'].sum())\n",
    "print(\"s_load_shed\", results_0_w_esr['s_load_shed'].sum())\n",
    "print(\"s_if_max\", results_0_w_esr['s_if_max'].sum())\n",
    "print(\"s_if_min\", results_0_w_esr['s_if_min'].sum())\n",
    "print(\"s_br_max\", results_0_w_esr['s_br_max'].sum())\n",
    "print(\"s_br_min\", results_0_w_esr['s_br_min'].sum())"
   ],
   "metadata": {
    "collapsed": false,
    "ExecuteTime": {
     "end_time": "2024-01-31T04:14:25.056460300Z",
     "start_time": "2024-01-31T04:14:25.045544800Z"
    }
   },
   "execution_count": 17,
   "outputs": []
  },
  {
   "cell_type": "markdown",
   "source": [
    "#### With VRE"
   ],
   "metadata": {
    "collapsed": false
   }
  },
  {
   "cell_type": "code",
   "source": [
    "# Create NYGrid object\n",
    "nygrid_sim_w_vre = NYGrid(grid_data_dir, \n",
    "                          start_datetime=start_datetime.strftime('%m-%d-%Y %H'), \n",
    "                          end_datetime=end_datetime.strftime('%m-%d-%Y %H'),\n",
    "                          dcline_prop=dcline_prop,\n",
    "                          esr_prop=None,\n",
    "                          vre_prop=vre_prop,\n",
    "                          verbose=True)\n",
    "\n",
    "# Set load and generation time series data\n",
    "nygrid_sim_w_vre.set_load_sch(load_profile)\n",
    "nygrid_sim_w_vre.set_gen_mw_sch(gen_profile)\n",
    "nygrid_sim_w_vre.set_gen_max_sch(genmax_profile)\n",
    "nygrid_sim_w_vre.set_vre_max_sch(genmax_profile_vre)\n",
    "nygrid_sim_w_vre.set_gen_min_sch(genmin_profile)\n",
    "nygrid_sim_w_vre.set_gen_ramp_sch(genramp30_profile)\n",
    "nygrid_sim_w_vre.set_gen_cost_sch(gencost0_profile, gencost1_profile)\n",
    "\n",
    "# Relax branch flow limits\n",
    "nygrid_sim_w_vre.relax_external_branch_lim()\n",
    "\n",
    "# Set generator initial condition\n",
    "nygrid_sim_w_vre.set_gen_init_data(gen_init=None)\n",
    "\n",
    "# Set options\n",
    "options = {\n",
    "    'UsePTDF': True,\n",
    "    'solver': 'gurobi',\n",
    "    'PenaltyForLoadShed': 20_000,\n",
    "    'PenaltyForBranchMwViolation': 10_000,\n",
    "    'PenaltyForInterfaceMWViolation': 10_000\n",
    "}\n",
    "\n",
    "nygrid_sim_w_vre.set_options(options)\n",
    "\n",
    "# Solve DC OPF\n",
    "nygrid_sim_w_vre.solve_dc_opf()\n",
    "\n",
    "# Get results\n",
    "results_0_w_vre = nygrid_sim_w_vre.get_results_dc_opf()"
   ],
   "metadata": {
    "collapsed": false,
    "ExecuteTime": {
     "end_time": "2024-01-31T04:14:41.202691800Z",
     "start_time": "2024-01-31T04:14:25.059890900Z"
    }
   },
   "execution_count": 18,
   "outputs": []
  },
  {
   "cell_type": "code",
   "source": [
    "print(\"s_ramp_up\", results_0_w_vre['s_ramp_up'].sum())\n",
    "print(\"s_ramp_down\", results_0_w_vre['s_ramp_down'].sum())\n",
    "print(\"s_over_gen\", results_0_w_vre['s_over_gen'].sum())\n",
    "print(\"s_load_shed\", results_0_w_vre['s_load_shed'].sum())\n",
    "print(\"s_if_max\", results_0_w_vre['s_if_max'].sum())\n",
    "print(\"s_if_min\", results_0_w_vre['s_if_min'].sum())\n",
    "print(\"s_br_max\", results_0_w_vre['s_br_max'].sum())\n",
    "print(\"s_br_min\", results_0_w_vre['s_br_min'].sum())"
   ],
   "metadata": {
    "collapsed": false,
    "ExecuteTime": {
     "end_time": "2024-01-31T04:14:41.242515900Z",
     "start_time": "2024-01-31T04:14:41.206071500Z"
    }
   },
   "execution_count": 19,
   "outputs": []
  },
  {
   "cell_type": "markdown",
   "source": [
    "#### With VRE and ESR"
   ],
   "metadata": {
    "collapsed": false
   }
  },
  {
   "cell_type": "code",
   "source": [
    "# Create NYGrid object\n",
    "nygrid_sim_w_vre_esr = NYGrid(grid_data_dir, \n",
    "                          start_datetime=start_datetime.strftime('%m-%d-%Y %H'), \n",
    "                          end_datetime=end_datetime.strftime('%m-%d-%Y %H'),\n",
    "                          dcline_prop=dcline_prop,\n",
    "                          esr_prop=esr_prop,\n",
    "                          vre_prop=vre_prop,\n",
    "                          verbose=True)\n",
    "\n",
    "# Set load and generation time series data\n",
    "nygrid_sim_w_vre_esr.set_load_sch(load_profile)\n",
    "nygrid_sim_w_vre_esr.set_gen_mw_sch(gen_profile)\n",
    "nygrid_sim_w_vre_esr.set_gen_max_sch(genmax_profile)\n",
    "nygrid_sim_w_vre_esr.set_vre_max_sch(genmax_profile_vre)\n",
    "nygrid_sim_w_vre_esr.set_gen_min_sch(genmin_profile)\n",
    "nygrid_sim_w_vre_esr.set_gen_ramp_sch(genramp30_profile)\n",
    "nygrid_sim_w_vre_esr.set_gen_cost_sch(gencost0_profile, gencost1_profile)\n",
    "\n",
    "# Relax branch flow limits\n",
    "nygrid_sim_w_vre_esr.relax_external_branch_lim()\n",
    "\n",
    "# Set generator initial condition\n",
    "nygrid_sim_w_vre_esr.set_gen_init_data(gen_init=None)\n",
    "\n",
    "# Set options\n",
    "options = {\n",
    "    'UsePTDF': True,\n",
    "    'solver': 'gurobi',\n",
    "    'PenaltyForLoadShed': 20_000,\n",
    "    'PenaltyForBranchMwViolation': 10_000,\n",
    "    'PenaltyForInterfaceMWViolation': 10_000\n",
    "}\n",
    "\n",
    "nygrid_sim_w_vre_esr.set_options(options)\n",
    "\n",
    "# Solve DC OPF\n",
    "nygrid_sim_w_vre_esr.solve_dc_opf()\n",
    "\n",
    "# Get results\n",
    "results_0_w_vre_esr = nygrid_sim_w_vre_esr.get_results_dc_opf()"
   ],
   "metadata": {
    "collapsed": false,
    "ExecuteTime": {
     "end_time": "2024-01-31T04:14:58.492610600Z",
     "start_time": "2024-01-31T04:14:41.223563700Z"
    }
   },
   "execution_count": 20,
   "outputs": []
  },
  {
   "cell_type": "code",
   "source": [
    "print(\"s_ramp_up\", results_0_w_vre_esr['s_ramp_up'].sum())\n",
    "print(\"s_ramp_down\", results_0_w_vre_esr['s_ramp_down'].sum())\n",
    "print(\"s_over_gen\", results_0_w_vre_esr['s_over_gen'].sum())\n",
    "print(\"s_load_shed\", results_0_w_vre_esr['s_load_shed'].sum())\n",
    "print(\"s_if_max\", results_0_w_vre_esr['s_if_max'].sum())\n",
    "print(\"s_if_min\", results_0_w_vre_esr['s_if_min'].sum())\n",
    "print(\"s_br_max\", results_0_w_vre_esr['s_br_max'].sum())\n",
    "print(\"s_br_min\", results_0_w_vre_esr['s_br_min'].sum())"
   ],
   "metadata": {
    "collapsed": false,
    "ExecuteTime": {
     "end_time": "2024-01-31T04:14:58.509089900Z",
     "start_time": "2024-01-31T04:14:58.495927Z"
    }
   },
   "execution_count": 21,
   "outputs": []
  },
  {
   "cell_type": "markdown",
   "source": [
    "#### Results"
   ],
   "metadata": {
    "collapsed": false
   }
  },
  {
   "cell_type": "code",
   "source": [
    "ii = 5\n",
    "print('total', nygrid_sim_w_esr.model.PG[:, nygrid_sim_w_esr.esr_idx[ii]]())\n",
    "print('discharging', nygrid_sim_w_esr.model.esrPDis[:, ii]())\n",
    "print('charging', nygrid_sim_w_esr.model.esrPCrg[:, ii]())\n",
    "print('SOC', nygrid_sim_w_esr.model.esrSOC[:, ii]())"
   ],
   "metadata": {
    "collapsed": false,
    "ExecuteTime": {
     "end_time": "2024-01-31T04:14:58.565178600Z",
     "start_time": "2024-01-31T04:14:58.520144200Z"
    }
   },
   "execution_count": 22,
   "outputs": []
  },
  {
   "cell_type": "code",
   "source": [
    "print(f'Total cost: {results_0_wo_esr[\"total_cost\"].sum():.2f}, {results_0_w_esr[\"total_cost\"].sum():.2f}, {results_0_w_vre[\"total_cost\"].sum():.2f}, {results_0_w_vre_esr[\"total_cost\"].sum():.2f}')\n",
    "print(f'Gen cost: {results_0_wo_esr[\"gen_cost\"].sum():.2f}, {results_0_w_esr[\"gen_cost\"].sum():.2f}, {results_0_w_vre[\"gen_cost\"].sum():.2f}, {results_0_w_vre_esr[\"gen_cost\"].sum():.2f}')\n",
    "print(f'Over generation penalty: {results_0_wo_esr[\"over_gen_penalty\"].sum():.2f}, {results_0_w_esr[\"over_gen_penalty\"].sum():.2f}, {results_0_w_vre[\"over_gen_penalty\"].sum():.2f}, {results_0_w_vre_esr[\"over_gen_penalty\"].sum():.2f}')\n",
    "print(f'Load shed penalty: {results_0_wo_esr[\"load_shed_penalty\"].sum():.2f}, {results_0_w_esr[\"load_shed_penalty\"].sum():.2f}, {results_0_w_vre[\"load_shed_penalty\"].sum():.2f}, {results_0_w_vre_esr[\"load_shed_penalty\"].sum():.2f}')\n",
    "print(f'Ramp up penalty: {results_0_wo_esr[\"ramp_up_penalty\"].sum():.2f}, {results_0_w_esr[\"ramp_up_penalty\"].sum():.2f}, {results_0_w_vre[\"ramp_up_penalty\"].sum():.2f}, {results_0_w_vre_esr[\"ramp_up_penalty\"].sum():.2f}')\n",
    "print(f'Ramp down penalty: {results_0_wo_esr[\"ramp_down_penalty\"].sum():.2f}, {results_0_w_esr[\"ramp_down_penalty\"].sum():.2f}, {results_0_w_vre[\"ramp_down_penalty\"].sum():.2f}, {results_0_w_vre_esr[\"ramp_down_penalty\"].sum():.2f}')\n",
    "print(f'Interface max penalty: {results_0_wo_esr[\"if_max_penalty\"].sum():.2f}, {results_0_w_esr[\"if_max_penalty\"].sum():.2f}, {results_0_w_vre[\"if_max_penalty\"].sum():.2f}, {results_0_w_vre_esr[\"if_max_penalty\"].sum():.2f}')\n",
    "print(f'Interface min penalty: {results_0_wo_esr[\"if_min_penalty\"].sum():.2f}, {results_0_w_esr[\"if_min_penalty\"].sum():.2f}, {results_0_w_vre[\"if_min_penalty\"].sum():.2f}, {results_0_w_vre_esr[\"if_min_penalty\"].sum():.2f}')\n",
    "print(f'Branch max penalty: {results_0_wo_esr[\"br_max_penalty\"].sum():.2f}, {results_0_w_esr[\"br_max_penalty\"].sum():.2f}, {results_0_w_vre[\"br_max_penalty\"].sum():.2f}, {results_0_w_vre_esr[\"br_max_penalty\"].sum():.2f}')\n",
    "print(f'Branch min penalty: {results_0_wo_esr[\"br_min_penalty\"].sum():.2f}, {results_0_w_esr[\"br_min_penalty\"].sum():.2f}, {results_0_w_vre[\"br_min_penalty\"].sum():.2f}, {results_0_w_vre_esr[\"br_min_penalty\"].sum():.2f}')"
   ],
   "metadata": {
    "collapsed": false,
    "ExecuteTime": {
     "end_time": "2024-01-31T04:14:58.581946900Z",
     "start_time": "2024-01-31T04:14:58.543704Z"
    }
   },
   "execution_count": 23,
   "outputs": []
  },
  {
   "cell_type": "code",
   "source": [
    "# Create a dict where key is busIdx and value is zoneID\n",
    "bus_zone_alloc = nygrid_sim_w_esr.grid_data['bus_prop'].set_index('BUS_I').to_dict()['BUS_ZONE']\n",
    "bus_names = list(bus_zone_alloc.keys())\n",
    "bus_names_str = [f'Bus{i}' for i in bus_names]"
   ],
   "metadata": {
    "collapsed": false,
    "ExecuteTime": {
     "end_time": "2024-01-31T04:14:58.661298100Z",
     "start_time": "2024-01-31T04:14:58.554751100Z"
    }
   },
   "execution_count": 24,
   "outputs": []
  },
  {
   "cell_type": "code",
   "source": [
    "lmp_wo_esr = results_0_wo_esr['LMP']\n",
    "lmp_wo_esr.columns = bus_names\n",
    "\n",
    "lmp_w_esr = results_0_w_esr['LMP']\n",
    "lmp_w_esr.columns = bus_names\n",
    "\n",
    "lmp_w_vre = results_0_w_vre['LMP']\n",
    "lmp_w_vre.columns = bus_names\n",
    "\n",
    "lmp_w_vre_esr = results_0_w_vre_esr['LMP']\n",
    "lmp_w_vre_esr.columns = bus_names\n",
    "\n",
    "# Aggregate LMPs by zone\n",
    "lmp_wo_esr_zone = lmp_wo_esr.groupby(bus_zone_alloc, axis=1).mean()\n",
    "lmp_w_esr_zone = lmp_w_esr.groupby(bus_zone_alloc, axis=1).mean()\n",
    "lmp_w_vre_zone = lmp_w_vre.groupby(bus_zone_alloc, axis=1).mean()\n",
    "lmp_w_vre_esr_zone = lmp_w_vre_esr.groupby(bus_zone_alloc, axis=1).mean()"
   ],
   "metadata": {
    "collapsed": false,
    "ExecuteTime": {
     "end_time": "2024-01-31T04:14:58.663717900Z",
     "start_time": "2024-01-31T04:14:58.597091Z"
    }
   },
   "execution_count": 25,
   "outputs": []
  },
  {
   "cell_type": "code",
   "source": [
    "fig, axs = plt.subplots(7, 2, figsize=(12, 12), sharex='all', sharey='all')\n",
    "# Plot LMPs w/o ESR\n",
    "for i, ax in enumerate(axs.flat):\n",
    "    lmp_wo_esr_zone.iloc[:, i].plot(ax=ax, label='w/o ESR')\n",
    "    lmp_w_esr_zone.iloc[:, i].plot(ax=ax, label='w/ ESR')\n",
    "    lmp_w_vre_zone.iloc[:, i].plot(ax=ax, label='w/ VRE')\n",
    "    lmp_w_vre_esr_zone.iloc[:, i].plot(ax=ax, label='w/ VRE & ESR')\n",
    "    ax.set_title(lmp_w_esr_zone.columns[i])\n",
    "    ax.legend()\n",
    "    \n",
    "fig.tight_layout()"
   ],
   "metadata": {
    "collapsed": false,
    "ExecuteTime": {
     "end_time": "2024-01-31T04:15:01.183747800Z",
     "start_time": "2024-01-31T04:14:58.612719800Z"
    }
   },
   "execution_count": 26,
   "outputs": []
  },
  {
   "cell_type": "code",
   "source": [
    "load_profile.columns = bus_names\n",
    "load_profile_zone = load_profile.groupby(bus_zone_alloc, axis=1).sum()\n",
    "load_profile_zone[start_datetime:end_datetime].plot.area(title=\"Zonal Load\")"
   ],
   "metadata": {
    "collapsed": false,
    "ExecuteTime": {
     "end_time": "2024-01-31T04:15:01.490032400Z",
     "start_time": "2024-01-31T04:15:01.183747800Z"
    }
   },
   "execution_count": 27,
   "outputs": []
  },
  {
   "cell_type": "code",
   "source": [
    "results_0_wo_esr['LMP'].plot(legend=False, title=\"Bus LMP (w/o ESR)\")\n",
    "plt.show()"
   ],
   "metadata": {
    "collapsed": false,
    "ExecuteTime": {
     "end_time": "2024-01-31T04:15:01.765572800Z",
     "start_time": "2024-01-31T04:15:01.496755Z"
    }
   },
   "execution_count": 28,
   "outputs": []
  },
  {
   "cell_type": "code",
   "source": [
    "results_0_w_esr['LMP'].plot(legend=False, title=\"Bus LMP (w/ ESR)\")\n",
    "plt.show()"
   ],
   "metadata": {
    "collapsed": false,
    "ExecuteTime": {
     "end_time": "2024-01-31T04:15:02.031824400Z",
     "start_time": "2024-01-31T04:15:01.838227400Z"
    }
   },
   "execution_count": 29,
   "outputs": []
  },
  {
   "cell_type": "code",
   "source": [
    "gen_max = genmax_profile[start_datetime:end_datetime]\n",
    "gen_pg = results_0_wo_esr['PG'].iloc[:, :303]\n",
    "gen_pg.columns = gen_max.columns\n",
    "surplus = gen_max - gen_pg\n",
    "surplus"
   ],
   "metadata": {
    "collapsed": false,
    "ExecuteTime": {
     "end_time": "2024-01-31T04:15:02.108446500Z",
     "start_time": "2024-01-31T04:15:02.087271Z"
    }
   },
   "execution_count": 30,
   "outputs": []
  },
  {
   "attachments": {},
   "cell_type": "markdown",
   "metadata": {},
   "source": [
    "### With initial conditions"
   ]
  },
  {
   "cell_type": "code",
   "execution_count": 31,
   "metadata": {
    "ExecuteTime": {
     "end_time": "2024-01-31T04:15:02.144895400Z",
     "start_time": "2024-01-31T04:15:02.100836700Z"
    }
   },
   "source": [
    "# Only run for one day\n",
    "d = d+1\n",
    "start_datetime = timestamp_list[d]\n",
    "end_datetime = start_datetime + timedelta(hours=47)\n",
    "print(f'Start time: {start_datetime}')\n",
    "print(f'End time: {end_datetime}')"
   ],
   "outputs": []
  },
  {
   "cell_type": "markdown",
   "source": [
    "#### Without ESR"
   ],
   "metadata": {
    "collapsed": false
   }
  },
  {
   "cell_type": "code",
   "execution_count": 32,
   "metadata": {
    "ExecuteTime": {
     "end_time": "2024-01-31T04:15:04.452889100Z",
     "start_time": "2024-01-31T04:15:02.123885200Z"
    }
   },
   "source": [
    "# Create NYGrid object\n",
    "nygrid_sim_1_wo_esr = NYGrid(grid_data_dir, \n",
    "                            start_datetime=start_datetime.strftime('%m-%d-%Y %H'), \n",
    "                            end_datetime=end_datetime.strftime('%m-%d-%Y %H'),\n",
    "                            dcline_prop=dcline_prop,\n",
    "                            esr_prop=None,\n",
    "                            verbose=True)\n",
    "\n",
    "# Set load and generation time series data\n",
    "nygrid_sim_1_wo_esr.set_load_sch(load_profile)\n",
    "nygrid_sim_1_wo_esr.set_gen_mw_sch(gen_profile)\n",
    "nygrid_sim_1_wo_esr.set_gen_max_sch(genmax_profile)\n",
    "nygrid_sim_1_wo_esr.set_gen_min_sch(genmin_profile)\n",
    "nygrid_sim_1_wo_esr.set_gen_ramp_sch(genramp30_profile)\n",
    "nygrid_sim_1_wo_esr.set_gen_cost_sch(gencost0_profile, gencost1_profile)\n",
    "\n",
    "# Relax branch flow limits\n",
    "nygrid_sim_1_wo_esr.relax_external_branch_lim()\n",
    "\n",
    "# Set generator initial condition\n",
    "last_gen = results_0_wo_esr['PG'].loc[start_datetime].to_numpy().squeeze()\n",
    "nygrid_sim_1_wo_esr.set_gen_init_data(gen_init=last_gen)\n",
    "\n",
    "# Set options\n",
    "options = {\n",
    "    'UsePTDF': True,\n",
    "    'solver': 'gurobi',\n",
    "    'PenaltyForLoadShed': 20_000,\n",
    "    'PenaltyForBranchMwViolation': 10_000,\n",
    "    'PenaltyForInterfaceMWViolation': 10_000\n",
    "}\n",
    "\n",
    "nygrid_sim_1_wo_esr.set_options(options)\n",
    "\n",
    "# Solve DC OPF\n",
    "nygrid_sim_1_wo_esr.solve_dc_opf()\n",
    "\n",
    "# Get results\n",
    "results_1_wo_esr = nygrid_sim_1_wo_esr.get_results_dc_opf()"
   ],
   "outputs": []
  },
  {
   "cell_type": "code",
   "source": [
    "print(\"s_ramp_up\", results_1_wo_esr['s_ramp_up'].sum())\n",
    "print(\"s_ramp_down\", results_1_wo_esr['s_ramp_down'].sum())\n",
    "print(\"s_over_gen\", results_1_wo_esr['s_over_gen'].sum())\n",
    "print(\"s_load_shed\", results_1_wo_esr['s_load_shed'].sum())\n",
    "print(\"s_if_max\", results_1_wo_esr['s_if_max'].sum())\n",
    "print(\"s_if_min\", results_1_wo_esr['s_if_min'].sum())\n",
    "print(\"s_br_max\", results_1_wo_esr['s_br_max'].sum())\n",
    "print(\"s_br_min\", results_1_wo_esr['s_br_min'].sum())"
   ],
   "metadata": {
    "collapsed": false,
    "ExecuteTime": {
     "end_time": "2024-01-31T04:15:04.494351Z",
     "start_time": "2024-01-31T04:15:04.458421Z"
    }
   },
   "execution_count": null,
   "outputs": []
  },
  {
   "cell_type": "markdown",
   "source": [
    "#### With ESR"
   ],
   "metadata": {
    "collapsed": false
   }
  },
  {
   "cell_type": "code",
   "source": [
    "# Create NYGrid object\n",
    "nygrid_sim_1_w_esr = NYGrid(grid_data_dir, \n",
    "                            start_datetime=start_datetime.strftime('%m-%d-%Y %H'), \n",
    "                            end_datetime=end_datetime.strftime('%m-%d-%Y %H'),\n",
    "                            dcline_prop=dcline_prop,\n",
    "                            esr_prop=esr_prop,\n",
    "                            verbose=True)\n",
    "\n",
    "# Set load and generation time series data\n",
    "nygrid_sim_1_w_esr.set_load_sch(load_profile)\n",
    "nygrid_sim_1_w_esr.set_gen_mw_sch(gen_profile)\n",
    "nygrid_sim_1_w_esr.set_gen_max_sch(genmax_profile)\n",
    "nygrid_sim_1_w_esr.set_gen_min_sch(genmin_profile)\n",
    "nygrid_sim_1_w_esr.set_gen_ramp_sch(genramp30_profile)\n",
    "nygrid_sim_1_w_esr.set_gen_cost_sch(gencost0_profile, gencost1_profile)\n",
    "\n",
    "# Relax branch flow limits\n",
    "nygrid_sim_1_w_esr.relax_external_branch_lim()\n",
    "\n",
    "# Set generator initial condition\n",
    "last_gen = results_0_w_esr['PG'].loc[start_datetime].to_numpy().squeeze()\n",
    "nygrid_sim_1_w_esr.set_gen_init_data(gen_init=last_gen)\n",
    "\n",
    "# Set options\n",
    "options = {\n",
    "    'UsePTDF': True,\n",
    "    'solver': 'gurobi',\n",
    "    'PenaltyForLoadShed': 20_000,\n",
    "    'PenaltyForBranchMwViolation': 10_000,\n",
    "    'PenaltyForInterfaceMWViolation': 10_000\n",
    "}\n",
    "\n",
    "nygrid_sim_1_w_esr.set_options(options)\n",
    "\n",
    "# Solve DC OPF\n",
    "nygrid_sim_1_w_esr.solve_dc_opf()\n",
    "\n",
    "# Get results\n",
    "results_1_w_esr = nygrid_sim_1_w_esr.get_results_dc_opf()"
   ],
   "metadata": {
    "collapsed": false,
    "ExecuteTime": {
     "start_time": "2024-01-31T04:15:04.459484500Z"
    }
   },
   "execution_count": null,
   "outputs": []
  },
  {
   "cell_type": "code",
   "source": [
    "print(\"s_ramp_up\", results_1_w_esr['s_ramp_up'].sum())\n",
    "print(\"s_ramp_down\", results_1_w_esr['s_ramp_down'].sum())\n",
    "print(\"s_over_gen\", results_1_w_esr['s_over_gen'].sum())\n",
    "print(\"s_load_shed\", results_1_w_esr['s_load_shed'].sum())\n",
    "print(\"s_if_max\", results_1_w_esr['s_if_max'].sum())\n",
    "print(\"s_if_min\", results_1_w_esr['s_if_min'].sum())\n",
    "print(\"s_br_max\", results_1_w_esr['s_br_max'].sum())\n",
    "print(\"s_br_min\", results_1_w_esr['s_br_min'].sum())"
   ],
   "metadata": {
    "collapsed": false,
    "ExecuteTime": {
     "start_time": "2024-01-31T04:15:04.462149400Z"
    }
   },
   "execution_count": null,
   "outputs": []
  },
  {
   "cell_type": "markdown",
   "source": [
    "#### With VRE"
   ],
   "metadata": {
    "collapsed": false
   }
  },
  {
   "cell_type": "code",
   "source": [
    "# Create NYGrid object\n",
    "nygrid_sim_1_w_vre = NYGrid(grid_data_dir, \n",
    "                            start_datetime=start_datetime.strftime('%m-%d-%Y %H'), \n",
    "                            end_datetime=end_datetime.strftime('%m-%d-%Y %H'),\n",
    "                            dcline_prop=dcline_prop,\n",
    "                            esr_prop=None,\n",
    "                            vre_prop=vre_prop,\n",
    "                            verbose=True)\n",
    "\n",
    "# Set load and generation time series data\n",
    "nygrid_sim_1_w_vre.set_load_sch(load_profile)\n",
    "nygrid_sim_1_w_vre.set_gen_mw_sch(gen_profile)\n",
    "nygrid_sim_1_w_vre.set_gen_max_sch(genmax_profile)\n",
    "nygrid_sim_1_w_vre.set_vre_max_sch(genmax_profile_vre)\n",
    "nygrid_sim_1_w_vre.set_gen_min_sch(genmin_profile)\n",
    "nygrid_sim_1_w_vre.set_gen_ramp_sch(genramp30_profile)\n",
    "nygrid_sim_1_w_vre.set_gen_cost_sch(gencost0_profile, gencost1_profile)\n",
    "\n",
    "# Relax branch flow limits\n",
    "nygrid_sim_1_w_vre.relax_external_branch_lim()\n",
    "\n",
    "# Set generator initial condition\n",
    "last_gen = results_0_w_vre['PG'].loc[start_datetime].to_numpy().squeeze()\n",
    "nygrid_sim_1_w_vre.set_gen_init_data(gen_init=last_gen)\n",
    "\n",
    "# Set options\n",
    "# Set options\n",
    "options = {\n",
    "    'UsePTDF': True,\n",
    "    'solver': 'gurobi',\n",
    "    'PenaltyForLoadShed': 20_000,\n",
    "    'PenaltyForBranchMwViolation': 10_000,\n",
    "    'PenaltyForInterfaceMWViolation': 10_000\n",
    "}\n",
    "\n",
    "nygrid_sim_1_w_vre.set_options(options)\n",
    "\n",
    "# Solve DC OPF\n",
    "nygrid_sim_1_w_vre.solve_dc_opf()\n",
    "\n",
    "# Get results\n",
    "results_1_w_vre = nygrid_sim_1_w_vre.get_results_dc_opf()"
   ],
   "metadata": {
    "collapsed": false,
    "ExecuteTime": {
     "start_time": "2024-01-31T04:15:04.463252300Z"
    }
   },
   "execution_count": null,
   "outputs": []
  },
  {
   "cell_type": "code",
   "source": [
    "print(\"s_ramp_up\", results_1_w_vre['s_ramp_up'].sum())\n",
    "print(\"s_ramp_down\", results_1_w_vre['s_ramp_down'].sum())\n",
    "print(\"s_over_gen\", results_1_w_vre['s_over_gen'].sum())\n",
    "print(\"s_load_shed\", results_1_w_vre['s_load_shed'].sum())\n",
    "print(\"s_if_max\", results_1_w_vre['s_if_max'].sum())\n",
    "print(\"s_if_min\", results_1_w_vre['s_if_min'].sum())\n",
    "print(\"s_br_max\", results_1_w_vre['s_br_max'].sum())\n",
    "print(\"s_br_min\", results_1_w_vre['s_br_min'].sum())"
   ],
   "metadata": {
    "collapsed": false,
    "ExecuteTime": {
     "start_time": "2024-01-31T04:15:04.466756400Z"
    }
   },
   "execution_count": null,
   "outputs": []
  },
  {
   "cell_type": "markdown",
   "source": [
    "#### With VRE and ESR"
   ],
   "metadata": {
    "collapsed": false
   }
  },
  {
   "cell_type": "code",
   "source": [
    "# Create NYGrid object\n",
    "nygrid_sim_1_w_vre_esr = NYGrid(grid_data_dir, \n",
    "                            start_datetime=start_datetime.strftime('%m-%d-%Y %H'), \n",
    "                            end_datetime=end_datetime.strftime('%m-%d-%Y %H'),\n",
    "                            dcline_prop=dcline_prop,\n",
    "                            esr_prop=esr_prop,\n",
    "                            vre_prop=vre_prop,\n",
    "                            verbose=True)\n",
    "\n",
    "# Set load and generation time series data\n",
    "nygrid_sim_1_w_vre_esr.set_load_sch(load_profile)\n",
    "nygrid_sim_1_w_vre_esr.set_gen_mw_sch(gen_profile)\n",
    "nygrid_sim_1_w_vre_esr.set_gen_max_sch(genmax_profile)\n",
    "nygrid_sim_1_w_vre_esr.set_vre_max_sch(genmax_profile_vre)\n",
    "nygrid_sim_1_w_vre_esr.set_gen_min_sch(genmin_profile)\n",
    "nygrid_sim_1_w_vre_esr.set_gen_ramp_sch(genramp30_profile)\n",
    "nygrid_sim_1_w_vre_esr.set_gen_cost_sch(gencost0_profile, gencost1_profile)\n",
    "\n",
    "# Relax branch flow limits\n",
    "nygrid_sim_1_w_vre_esr.relax_external_branch_lim()\n",
    "\n",
    "# Set generator initial condition\n",
    "last_gen = results_0_w_vre_esr['PG'].loc[start_datetime].to_numpy().squeeze()\n",
    "nygrid_sim_1_w_vre_esr.set_gen_init_data(gen_init=last_gen)\n",
    "\n",
    "# Set options\n",
    "options = {\n",
    "    'UsePTDF': True,\n",
    "    'solver': 'gurobi',\n",
    "    'PenaltyForLoadShed': 20_000,\n",
    "    'PenaltyForBranchMwViolation': 10_000,\n",
    "    'PenaltyForInterfaceMWViolation': 10_000\n",
    "}\n",
    "\n",
    "nygrid_sim_1_w_vre_esr.set_options(options)\n",
    "\n",
    "# Solve DC OPF\n",
    "nygrid_sim_1_w_vre_esr.solve_dc_opf()\n",
    "\n",
    "# Get results\n",
    "results_1_w_vre_esr = nygrid_sim_1_w_vre_esr.get_results_dc_opf()"
   ],
   "metadata": {
    "collapsed": false,
    "ExecuteTime": {
     "start_time": "2024-01-31T04:15:04.469184700Z"
    }
   },
   "execution_count": null,
   "outputs": []
  },
  {
   "cell_type": "code",
   "source": [
    "print(\"s_ramp_up\", results_1_w_vre_esr['s_ramp_up'].sum())\n",
    "print(\"s_ramp_down\", results_1_w_vre_esr['s_ramp_down'].sum())\n",
    "print(\"s_over_gen\", results_1_w_vre_esr['s_over_gen'].sum())\n",
    "print(\"s_load_shed\", results_1_w_vre_esr['s_load_shed'].sum())\n",
    "print(\"s_if_max\", results_1_w_vre_esr['s_if_max'].sum())\n",
    "print(\"s_if_min\", results_1_w_vre_esr['s_if_min'].sum())\n",
    "print(\"s_br_max\", results_1_w_vre_esr['s_br_max'].sum())\n",
    "print(\"s_br_min\", results_1_w_vre_esr['s_br_min'].sum())"
   ],
   "metadata": {
    "collapsed": false,
    "ExecuteTime": {
     "start_time": "2024-01-31T04:15:04.471366300Z"
    }
   },
   "execution_count": null,
   "outputs": []
  },
  {
   "attachments": {},
   "cell_type": "markdown",
   "metadata": {},
   "source": [
    "## Process the results"
   ]
  },
  {
   "cell_type": "code",
   "execution_count": null,
   "metadata": {
    "ExecuteTime": {
     "start_time": "2024-01-31T04:15:04.472467800Z"
    }
   },
   "source": [
    "# Read thermal generator info table\n",
    "filename = os.path.join(data_dir, 'genInfo.csv')\n",
    "gen_info = pd.read_csv(filename)\n",
    "num_thermal = gen_info.shape[0]\n",
    "gen_rename = {gen_info.index[i]: gen_info.NYISOName[i] for i in range(num_thermal)}\n",
    "gen_info"
   ],
   "outputs": []
  },
  {
   "cell_type": "code",
   "execution_count": null,
   "metadata": {
    "ExecuteTime": {
     "start_time": "2024-01-31T04:15:04.474513600Z"
    }
   },
   "source": [
    "# Format results\n",
    "results_pg_0_wo_esr = results_0_wo_esr['PG']\n",
    "thermal_pg_0_wo_esr = results_pg_0_wo_esr.iloc[:, :num_thermal]\n",
    "thermal_pg_0_wo_esr = thermal_pg_0_wo_esr.rename(columns=gen_rename)\n",
    "print(thermal_pg_0_wo_esr.head())\n",
    "\n",
    "results_pg_0_w_esr = results_0_w_esr['PG']\n",
    "thermal_pg_0_w_esr = results_pg_0_w_esr.iloc[:, :num_thermal]\n",
    "thermal_pg_0_w_esr = thermal_pg_0_w_esr.rename(columns=gen_rename)\n",
    "print(thermal_pg_0_w_esr.head())\n",
    "\n",
    "results_pg_1_wo_esr = results_1_wo_esr['PG']\n",
    "thermal_pg_1_wo_esr = results_pg_1_wo_esr.iloc[:, :num_thermal]\n",
    "thermal_pg_1_wo_esr = thermal_pg_1_wo_esr.rename(columns=gen_rename)\n",
    "print(thermal_pg_1_wo_esr.head())\n",
    "\n",
    "results_pg_1_w_esr = results_1_w_esr['PG']\n",
    "thermal_pg_1_w_esr = results_pg_1_w_esr.iloc[:, :num_thermal]\n",
    "thermal_pg_1_w_esr = thermal_pg_1_w_esr.rename(columns=gen_rename)\n",
    "print(thermal_pg_1_w_esr.head())"
   ],
   "outputs": []
  },
  {
   "cell_type": "code",
   "execution_count": null,
   "metadata": {
    "ExecuteTime": {
     "start_time": "2024-01-31T04:15:04.475568200Z"
    }
   },
   "source": [
    "def plot_gen(thermal_pg, genhist, genmax, genmin, idx, title=None, ax=None):\n",
    "\n",
    "    ax.plot(thermal_pg.index, thermal_pg.iloc[:, idx], marker='*', label='OPF')\n",
    "    ax.plot(thermal_pg.index, genhist[start_datetime:end_datetime].iloc[:,idx], marker='o', label='historical')\n",
    "    ax.plot(thermal_pg.index, genmax[start_datetime:end_datetime].iloc[:,idx], linestyle='--', label='max')\n",
    "    ax.plot(thermal_pg.index, genmin[start_datetime:end_datetime].iloc[:,idx], linestyle='--', label='min')\n",
    "    ax.legend()\n",
    "    ax.set_title(title)\n",
    "\n",
    "    return ax"
   ],
   "outputs": []
  },
  {
   "cell_type": "code",
   "source": [
    "gen_profile[start_datetime:end_datetime]"
   ],
   "metadata": {
    "collapsed": false,
    "ExecuteTime": {
     "start_time": "2024-01-31T04:15:04.476627800Z"
    }
   },
   "execution_count": null,
   "outputs": []
  },
  {
   "cell_type": "code",
   "execution_count": null,
   "metadata": {
    "ExecuteTime": {
     "start_time": "2024-01-31T04:15:04.477672300Z"
    }
   },
   "source": [
    "ii = 3\n",
    "print(gen_info.iloc[ii, :])\n",
    "fig, axs = plt.subplots(2, 2, figsize=(12, 8))\n",
    "axs[0, 0] = plot_gen(thermal_pg_0_wo_esr, gen_profile, genmax_profile, genmin_profile, ii, title=gen_info.NYISOName[ii], ax=axs[0, 0])\n",
    "axs[0, 1] = plot_gen(thermal_pg_0_w_esr, gen_profile, genmax_profile, genmin_profile, ii, title=gen_info.NYISOName[ii], ax=axs[0, 1])\n",
    "axs[1, 0] = plot_gen(thermal_pg_1_wo_esr, gen_profile, genmax_profile, genmin_profile, ii, title=gen_info.NYISOName[ii], ax=axs[1, 0])\n",
    "axs[1, 1] = plot_gen(thermal_pg_1_w_esr, gen_profile, genmax_profile, genmin_profile, ii, title=gen_info.NYISOName[ii], ax=axs[1, 1])\n",
    "fig.tight_layout()"
   ],
   "outputs": []
  },
  {
   "cell_type": "code",
   "execution_count": null,
   "metadata": {
    "ExecuteTime": {
     "start_time": "2024-01-31T04:15:04.479795300Z"
    }
   },
   "source": [
    "ii = 9\n",
    "print(gen_info.iloc[ii, :])\n",
    "fig, axs = plt.subplots(2, 2, figsize=(12, 8))\n",
    "axs[0, 0] = plot_gen(thermal_pg_0_wo_esr, gen_profile, genmax_profile, genmin_profile, ii, title=gen_info.NYISOName[ii], ax=axs[0, 0])\n",
    "axs[0, 1] = plot_gen(thermal_pg_0_w_esr, gen_profile, genmax_profile, genmin_profile, ii, title=gen_info.NYISOName[ii], ax=axs[0, 1])\n",
    "axs[1, 0] = plot_gen(thermal_pg_1_wo_esr, gen_profile, genmax_profile, genmin_profile, ii, title=gen_info.NYISOName[ii], ax=axs[1, 0])\n",
    "axs[1, 1] = plot_gen(thermal_pg_1_w_esr, gen_profile, genmax_profile, genmin_profile, ii, title=gen_info.NYISOName[ii], ax=axs[1, 1])\n",
    "fig.tight_layout()"
   ],
   "outputs": []
  },
  {
   "cell_type": "code",
   "execution_count": null,
   "metadata": {
    "ExecuteTime": {
     "start_time": "2024-01-31T04:15:04.480974100Z"
    }
   },
   "source": [
    "ii = 83\n",
    "print(gen_info.iloc[ii, :])\n",
    "fig, axs = plt.subplots(2, 2, figsize=(12, 8))\n",
    "axs[0, 0] = plot_gen(thermal_pg_0_wo_esr, gen_profile, genmax_profile, genmin_profile, ii, title=gen_info.NYISOName[ii], ax=axs[0, 0])\n",
    "axs[0, 1] = plot_gen(thermal_pg_0_w_esr, gen_profile, genmax_profile, genmin_profile, ii, title=gen_info.NYISOName[ii], ax=axs[0, 1])\n",
    "axs[1, 0] = plot_gen(thermal_pg_1_wo_esr, gen_profile, genmax_profile, genmin_profile, ii, title=gen_info.NYISOName[ii], ax=axs[1, 0])\n",
    "axs[1, 1] = plot_gen(thermal_pg_1_w_esr, gen_profile, genmax_profile, genmin_profile, ii, title=gen_info.NYISOName[ii], ax=axs[1, 1])\n",
    "plt.show()"
   ],
   "outputs": []
  }
 ],
 "metadata": {
  "interpreter": {
   "hash": "f1e7b9e5b0ccd18e373e44bae5bf3ffa8873ffa9b0a195a69c8a44ccfc15a04d"
  },
  "kernelspec": {
   "display_name": "Python 3.9.7 ('power')",
   "language": "python",
   "name": "python3"
  },
  "language_info": {
   "codemirror_mode": {
    "name": "ipython",
    "version": 3
   },
   "file_extension": ".py",
   "mimetype": "text/x-python",
   "name": "python",
   "nbconvert_exporter": "python",
   "pygments_lexer": "ipython3",
   "version": "3.8.16"
  },
  "orig_nbformat": 4
 },
 "nbformat": 4,
 "nbformat_minor": 2
}
