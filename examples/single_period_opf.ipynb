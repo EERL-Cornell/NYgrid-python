{
 "cells": [
  {
   "cell_type": "markdown",
   "metadata": {},
   "source": [
    "# Packages"
   ]
  },
  {
   "cell_type": "code",
   "execution_count": 1,
   "metadata": {},
   "outputs": [],
   "source": [
    "import os\n",
    "from pyomo.environ import *\n",
    "import numpy as np\n",
    "import pandas as pd\n",
    "import matplotlib.pyplot as plt\n",
    "import pypower.api as pp\n",
    "from datetime import datetime\n",
    "import wrf2power.opf as opf"
   ]
  },
  {
   "cell_type": "code",
   "execution_count": 2,
   "metadata": {},
   "outputs": [],
   "source": [
    "from pyomo.environ import *\n",
    "from pyomo.opt import SolverStatus, TerminationCondition\n",
    "import numpy as np\n",
    "import pandas as pd\n",
    "import pypower.api as pp\n",
    "# Import pypower data indexing\n",
    "from pypower.idx_bus import *\n",
    "from pypower.idx_gen import *\n",
    "from pypower.idx_brch import *\n",
    "from pypower.idx_cost import *\n",
    "\n",
    "def single_opf_new(B, Bf, gen_map, load_map, load, gencost_0, gencost_1, dc_idx_f, dc_idx_t,\n",
    "                gen_min, gen_max, br_min, br_max, if_map, if_lims):\n",
    "    '''\n",
    "    Single-period OPF problem.\n",
    "\n",
    "    Paraemters:\n",
    "        A tuple of OPF network parameters and constraints.\n",
    "    \n",
    "    Returns:\n",
    "        model (pyomo.core.base.PyomoModel.ConcreteModel): Pyomo model for single-period OPF problem.\n",
    "    '''\n",
    "    # Get problem dimensions\n",
    "    NB, NG = gen_map.shape\n",
    "    NL = load.shape[0]\n",
    "    NBR = br_min.shape[0]\n",
    "\n",
    "    model = ConcreteModel(name='single-period OPF')\n",
    "\n",
    "    # Define sets\n",
    "    model.bus = Set(initialize=range(NB))\n",
    "    model.brch = Set(initialize=range(NBR))\n",
    "    model.gen = Set(initialize=range(NG))\n",
    "\n",
    "    # Define variables\n",
    "    model.PG = Var(model.gen, within=Reals,initialize=1)  # Real power generation\n",
    "    model.Va = Var(model.bus, within=Reals, initialize=0,\n",
    "                   bounds=(-2*np.pi, 2*np.pi))  # Bus voltage angle\n",
    "    model.PF = Var(model.brch, within=Reals, initialize=0) # Branch power flow\n",
    "\n",
    "    model.dual = Suffix(direction=Suffix.IMPORT) # Dual variables for price information\n",
    "\n",
    "    # Define constraints\n",
    "    model.c_br_flow = ConstraintList()\n",
    "    model.c_br_max = ConstraintList()\n",
    "    model.c_br_min = ConstraintList()\n",
    "    model.c_gen_cap = ConstraintList()\n",
    "    model.c_pf = ConstraintList()\n",
    "    model.c_dcline = ConstraintList()\n",
    "    model.c_if_lims = ConstraintList()\n",
    "\n",
    "    # Line flow limit constraints\n",
    "    for br in range(NBR):\n",
    "        model.c_br_flow.add(model.PF[br] == sum(Bf[br, b]*model.Va[b] for b in range(NB)))\n",
    "        model.c_br_max.add(model.PF[br] <= br_max[br])\n",
    "        model.c_br_min.add(model.PF[br] >= br_min[br])\n",
    "    \n",
    "    # Generation capacity limit\n",
    "    for g in range(NG):\n",
    "        model.c_gen_cap.add(model.PG[g] >= gen_min[g])\n",
    "        model.c_gen_cap.add(model.PG[g] <= gen_max[g])\n",
    "\n",
    "    # DC power flow constraint\n",
    "    for b in range(NB):\n",
    "        model.c_pf.add(sum(gen_map[b, g]*model.PG[g] for g in range(NG)) - sum(load_map[b, l]*load[l] for l in range(NL))\n",
    "                        == sum(B[b, b_]*model.Va[b_] for b_ in range(NB)))\n",
    "    \n",
    "    # DC line power balance constraint\n",
    "    for idx_f, idx_t in zip(dc_idx_f, dc_idx_t):\n",
    "        model.c_dcline.add(model.PG[idx_f] == -model.PG[idx_t])\n",
    "    \n",
    "    # Interface flow limits\n",
    "    for n in range(len(if_lims)):\n",
    "        if_id, if_lims_down, if_lims_up = if_lims[n, :]\n",
    "        br_dir_idx = if_map[(if_map[:,0] == int(if_id)), 1]\n",
    "        br_dir, br_idx = np.sign(br_dir_idx), np.abs(br_dir_idx).astype(int)\n",
    "        model.c_if_lims.add(if_lims_down <= sum(br_dir[i]*model.PF[br_idx[i]] for i in range(len(br_idx))))\n",
    "        model.c_if_lims.add(if_lims_up >= sum(br_dir[i]*model.PF[br_idx[i]] for i in range(len(br_idx))))\n",
    "\n",
    "    def cost(model, gencost_0, gencost_1):\n",
    "\n",
    "        cost = sum(gencost_0[g] for g in range(NG)) \\\n",
    "            + sum(gencost_1[g]*model.PG[g] for g in range(NG))\n",
    "            # + sum(model.s_br_min[br]*1e6 for br in range(NBR)) \\\n",
    "            # + sum(model.s_br_max[br]*1e6 for br in range(NBR))\n",
    "\n",
    "        return cost\n",
    "\n",
    "    model.obj = Objective(expr=cost(model, gencost_0, gencost_1), sense=minimize)\n",
    "\n",
    "    return model"
   ]
  },
  {
   "cell_type": "code",
   "execution_count": 17,
   "metadata": {},
   "outputs": [],
   "source": [
    "# Get problem dimensions\n",
    "NB, NG = gen_map.shape\n",
    "NL = load.shape[0]\n",
    "NBR = br_min.shape[0]\n",
    "\n",
    "model = ConcreteModel(name='single-period OPF')\n",
    "\n",
    "# Define sets\n",
    "model.bus = Set(initialize=range(NB))\n",
    "model.brch = Set(initialize=range(NBR))\n",
    "model.gen = Set(initialize=range(NG))\n",
    "\n",
    "# Define variables\n",
    "model.PG = Var(model.gen, within=Reals,initialize=1)  # Real power generation\n",
    "model.Va = Var(model.bus, within=Reals, initialize=0,\n",
    "                bounds=(-2*np.pi, 2*np.pi))  # Bus voltage angle\n",
    "model.PF = Var(model.brch, within=Reals, initialize=0) # Branch power flow"
   ]
  },
  {
   "cell_type": "code",
   "execution_count": 20,
   "metadata": {},
   "outputs": [
    {
     "name": "stdout",
     "output_type": "stream",
     "text": [
      "Va : Size=57, Index=bus\n",
      "    Key : Lower              : Value : Upper             : Fixed : Stale : Domain\n",
      "      0 : -6.283185307179586 :     0 : 6.283185307179586 : False : False :  Reals\n",
      "      1 : -6.283185307179586 :     0 : 6.283185307179586 : False : False :  Reals\n",
      "      2 : -6.283185307179586 :     0 : 6.283185307179586 : False : False :  Reals\n",
      "      3 : -6.283185307179586 :     0 : 6.283185307179586 : False : False :  Reals\n",
      "      4 : -6.283185307179586 :     0 : 6.283185307179586 : False : False :  Reals\n",
      "      5 : -6.283185307179586 :     0 : 6.283185307179586 : False : False :  Reals\n",
      "      6 : -6.283185307179586 :     0 : 6.283185307179586 : False : False :  Reals\n",
      "      7 : -6.283185307179586 :     0 : 6.283185307179586 : False : False :  Reals\n",
      "      8 : -6.283185307179586 :     0 : 6.283185307179586 : False : False :  Reals\n",
      "      9 : -6.283185307179586 :     0 : 6.283185307179586 : False : False :  Reals\n",
      "     10 : -6.283185307179586 :     0 : 6.283185307179586 : False : False :  Reals\n",
      "     11 : -6.283185307179586 :     0 : 6.283185307179586 : False : False :  Reals\n",
      "     12 : -6.283185307179586 :     0 : 6.283185307179586 : False : False :  Reals\n",
      "     13 : -6.283185307179586 :     0 : 6.283185307179586 : False : False :  Reals\n",
      "     14 : -6.283185307179586 :     0 : 6.283185307179586 : False : False :  Reals\n",
      "     15 : -6.283185307179586 :     0 : 6.283185307179586 : False : False :  Reals\n",
      "     16 : -6.283185307179586 :     0 : 6.283185307179586 : False : False :  Reals\n",
      "     17 : -6.283185307179586 :     0 : 6.283185307179586 : False : False :  Reals\n",
      "     18 : -6.283185307179586 :     0 : 6.283185307179586 : False : False :  Reals\n",
      "     19 : -6.283185307179586 :     0 : 6.283185307179586 : False : False :  Reals\n",
      "     20 : -6.283185307179586 :     0 : 6.283185307179586 : False : False :  Reals\n",
      "     21 : -6.283185307179586 :     0 : 6.283185307179586 : False : False :  Reals\n",
      "     22 : -6.283185307179586 :     0 : 6.283185307179586 : False : False :  Reals\n",
      "     23 : -6.283185307179586 :     0 : 6.283185307179586 : False : False :  Reals\n",
      "     24 : -6.283185307179586 :     0 : 6.283185307179586 : False : False :  Reals\n",
      "     25 : -6.283185307179586 :     0 : 6.283185307179586 : False : False :  Reals\n",
      "     26 : -6.283185307179586 :     0 : 6.283185307179586 : False : False :  Reals\n",
      "     27 : -6.283185307179586 :     0 : 6.283185307179586 : False : False :  Reals\n",
      "     28 : -6.283185307179586 :     0 : 6.283185307179586 : False : False :  Reals\n",
      "     29 : -6.283185307179586 :     0 : 6.283185307179586 : False : False :  Reals\n",
      "     30 : -6.283185307179586 :     0 : 6.283185307179586 : False : False :  Reals\n",
      "     31 : -6.283185307179586 :     0 : 6.283185307179586 : False : False :  Reals\n",
      "     32 : -6.283185307179586 :     0 : 6.283185307179586 : False : False :  Reals\n",
      "     33 : -6.283185307179586 :     0 : 6.283185307179586 : False : False :  Reals\n",
      "     34 : -6.283185307179586 :     0 : 6.283185307179586 : False : False :  Reals\n",
      "     35 : -6.283185307179586 :     0 : 6.283185307179586 : False : False :  Reals\n",
      "     36 : -6.283185307179586 :     0 : 6.283185307179586 : False : False :  Reals\n",
      "     37 : -6.283185307179586 :     0 : 6.283185307179586 : False : False :  Reals\n",
      "     38 : -6.283185307179586 :     0 : 6.283185307179586 : False : False :  Reals\n",
      "     39 : -6.283185307179586 :     0 : 6.283185307179586 : False : False :  Reals\n",
      "     40 : -6.283185307179586 :     0 : 6.283185307179586 : False : False :  Reals\n",
      "     41 : -6.283185307179586 :     0 : 6.283185307179586 : False : False :  Reals\n",
      "     42 : -6.283185307179586 :     0 : 6.283185307179586 : False : False :  Reals\n",
      "     43 : -6.283185307179586 :     0 : 6.283185307179586 : False : False :  Reals\n",
      "     44 : -6.283185307179586 :     0 : 6.283185307179586 : False : False :  Reals\n",
      "     45 : -6.283185307179586 :     0 : 6.283185307179586 : False : False :  Reals\n",
      "     46 : -6.283185307179586 :     0 : 6.283185307179586 : False : False :  Reals\n",
      "     47 : -6.283185307179586 :     0 : 6.283185307179586 : False : False :  Reals\n",
      "     48 : -6.283185307179586 :     0 : 6.283185307179586 : False : False :  Reals\n",
      "     49 : -6.283185307179586 :     0 : 6.283185307179586 : False : False :  Reals\n",
      "     50 : -6.283185307179586 :     0 : 6.283185307179586 : False : False :  Reals\n",
      "     51 : -6.283185307179586 :     0 : 6.283185307179586 : False : False :  Reals\n",
      "     52 : -6.283185307179586 :     0 : 6.283185307179586 : False : False :  Reals\n",
      "     53 : -6.283185307179586 :     0 : 6.283185307179586 : False : False :  Reals\n",
      "     54 : -6.283185307179586 :     0 : 6.283185307179586 : False : False :  Reals\n",
      "     55 : -6.283185307179586 :     0 : 6.283185307179586 : False : False :  Reals\n",
      "     56 : -6.283185307179586 :     0 : 6.283185307179586 : False : False :  Reals\n"
     ]
    }
   ],
   "source": [
    "model.Va.pprint()"
   ]
  },
  {
   "cell_type": "markdown",
   "metadata": {},
   "source": [
    "# Single-period OPF"
   ]
  },
  {
   "cell_type": "code",
   "execution_count": 2,
   "metadata": {},
   "outputs": [],
   "source": [
    "start_time = datetime(2016, 8, 5, 12, 0, 0)\n",
    "end_time = datetime(2016, 8, 5, 12, 0, 0)\n",
    "testyear = start_time.year\n",
    "timestamp_list = pd.date_range(start_time, end_time, freq='1H')\n",
    "\n",
    "# Read load profile\n",
    "datadir = '../data'\n",
    "filename = os.path.join(datadir, f'loadprofile_{testyear}.csv')\n",
    "load_profile = pd.read_csv(filename, parse_dates=['TimeStamp'])\n",
    "load_profile = load_profile.set_index('TimeStamp')\n",
    "\n",
    "\n",
    "load = load_profile.loc[timestamp_list, :].to_numpy()"
   ]
  },
  {
   "cell_type": "code",
   "execution_count": 16,
   "metadata": {},
   "outputs": [],
   "source": [
    "# Read MATPOWER case file\n",
    "filename = os.path.join(datadir, 'ny_grid.mat')\n",
    "ppc = pp.loadcase(filename)\n",
    "\n",
    "(ppc_int, B, Bf, gen_map, load_map, load_pu, gencost_0, gencost_1, dc_idx_f, dc_idx_t,\n",
    "    gen_min, gen_max, br_min, br_max, ramp_down, ramp_up, if_map, if_lims) = opf.process_ppc(ppc, load)"
   ]
  },
  {
   "cell_type": "code",
   "execution_count": 7,
   "metadata": {},
   "outputs": [
    {
     "name": "stdout",
     "output_type": "stream",
     "text": [
      "Academic license - for non-commercial use only - expires 2022-07-04\n",
      "Using license file C:\\Users\\xjtuy\\gurobi.lic\n",
      "Read LP format model from file C:\\Users\\xjtuy\\AppData\\Local\\Temp\\tmpwhghz8m0.pyomo.lp\n",
      "Reading time = 0.00 seconds\n",
      "x429: 818 rows, 429 columns, 1502 nonzeros\n",
      "Changed value of parameter QCPDual to 1\n",
      "   Prev: 0  Min: 0  Max: 1  Default: 0\n",
      "Gurobi Optimizer version 9.1.2 build v9.1.2rc0 (win64)\n",
      "Thread count: 8 physical cores, 16 logical processors, using up to 16 threads\n",
      "Optimize a model with 818 rows, 429 columns and 1502 nonzeros\n",
      "Model fingerprint: 0x56407d37\n",
      "Coefficient statistics:\n",
      "  Matrix range     [1e-01, 5e+02]\n",
      "  Objective range  [1e+02, 5e+04]\n",
      "  Bounds range     [6e+00, 6e+00]\n",
      "  RHS range        [2e-15, 1e+03]\n",
      "Presolve removed 743 rows and 217 columns\n",
      "Presolve time: 0.00s\n",
      "Presolved: 75 rows, 220 columns, 487 nonzeros\n",
      "\n",
      "Iteration    Objective       Primal Inf.    Dual Inf.      Time\n",
      "       0    3.0139895e+05   9.108159e+01   0.000000e+00      0s\n",
      "      68    1.7167370e+06   0.000000e+00   0.000000e+00      0s\n",
      "\n",
      "Solved in 68 iterations and 0.00 seconds\n",
      "Optimal objective  1.716736986e+06\n",
      "The problem is feasible and optimal!\n",
      "1716736.99\n"
     ]
    }
   ],
   "source": [
    "# Single-period OPF\n",
    "# br_max = 6*br_max\n",
    "# br_min = 10*br_min\n",
    "\n",
    "model_single = opf.single_opf(B, Bf, gen_map, load_map, load_pu[0], gencost_0, gencost_1, dc_idx_f, dc_idx_t,\n",
    "                gen_min, gen_max, br_min, br_max, if_map, if_lims)\n",
    "\n",
    "# model_single.c_br_flow.deactivate()\n",
    "# model_single.c_br_max.deactivate()\n",
    "model_single.c_br_min.deactivate()\n",
    "# Solve the problem\n",
    "solver = SolverFactory('gurobi')\n",
    "results_single = solver.solve(model_single, tee=True)\n",
    "\n",
    "if opf.check_model_status(results_single):\n",
    "     print('%.2f' % model_single.obj())"
   ]
  },
  {
   "cell_type": "markdown",
   "metadata": {},
   "source": [
    "# Process the results"
   ]
  },
  {
   "cell_type": "code",
   "execution_count": 8,
   "metadata": {},
   "outputs": [],
   "source": [
    "results = opf.opf_results_single(model_single, ppc_int)"
   ]
  },
  {
   "cell_type": "code",
   "execution_count": 9,
   "metadata": {},
   "outputs": [
    {
     "data": {
      "text/plain": [
       "dict_keys(['PG', 'VA', 'PF', 'IF', 'LMP'])"
      ]
     },
     "execution_count": 9,
     "metadata": {},
     "output_type": "execute_result"
    }
   ],
   "source": [
    "results.keys()"
   ]
  },
  {
   "cell_type": "code",
   "execution_count": 10,
   "metadata": {},
   "outputs": [],
   "source": [
    "a_PG = results['PG']\n",
    "a_VA = results['VA']\n",
    "a_PF = results['PF']\n",
    "a_IF = results['IF']\n",
    "a_LMP = results['LMP']"
   ]
  },
  {
   "cell_type": "code",
   "execution_count": 14,
   "metadata": {},
   "outputs": [
    {
     "data": {
      "image/png": "[encoded data removed]",
      "text/plain": [
       "<Figure size 432x288 with 1 Axes>"
      ]
     },
     "metadata": {
      "needs_background": "light"
     },
     "output_type": "display_data"
    }
   ],
   "source": [
    "results['PF'].plot()\n",
    "plt.plot(br_max*100)\n",
    "plt.plot(br_min*100)\n",
    "plt.ylim(-5000, 5000)\n",
    "plt.show()"
   ]
  },
  {
   "cell_type": "code",
   "execution_count": 13,
   "metadata": {},
   "outputs": [
    {
     "data": {
      "text/html": [
       "<div>\n",
       "<style scoped>\n",
       "    .dataframe tbody tr th:only-of-type {\n",
       "        vertical-align: middle;\n",
       "    }\n",
       "\n",
       "    .dataframe tbody tr th {\n",
       "        vertical-align: top;\n",
       "    }\n",
       "\n",
       "    .dataframe thead th {\n",
       "        text-align: right;\n",
       "    }\n",
       "</style>\n",
       "<table border=\"1\" class=\"dataframe\">\n",
       "  <thead>\n",
       "    <tr style=\"text-align: right;\">\n",
       "      <th></th>\n",
       "      <th>NYISOName</th>\n",
       "      <th>PTID</th>\n",
       "      <th>Zone</th>\n",
       "      <th>UnitType</th>\n",
       "      <th>FuelType</th>\n",
       "      <th>Latitude</th>\n",
       "      <th>Longitude</th>\n",
       "      <th>maxPower</th>\n",
       "      <th>minPower</th>\n",
       "      <th>maxRampAgc</th>\n",
       "      <th>maxRamp10</th>\n",
       "      <th>maxRamp30</th>\n",
       "      <th>maxRamp60</th>\n",
       "      <th>HeatRateLM_R2</th>\n",
       "      <th>HeatRateQM_R2</th>\n",
       "      <th>BusName</th>\n",
       "      <th>NCOST</th>\n",
       "      <th>cost_1</th>\n",
       "      <th>cost_0</th>\n",
       "    </tr>\n",
       "  </thead>\n",
       "  <tbody>\n",
       "    <tr>\n",
       "      <th>0</th>\n",
       "      <td>Allegany</td>\n",
       "      <td>23514</td>\n",
       "      <td>B</td>\n",
       "      <td>Combined Cycle</td>\n",
       "      <td>Natural Gas</td>\n",
       "      <td>42.5083</td>\n",
       "      <td>-78.0661</td>\n",
       "      <td>66.0</td>\n",
       "      <td>11.0</td>\n",
       "      <td>0.733333</td>\n",
       "      <td>7.333333</td>\n",
       "      <td>22.00</td>\n",
       "      <td>44.0</td>\n",
       "      <td>0.862443</td>\n",
       "      <td>0.891407</td>\n",
       "      <td>62</td>\n",
       "      <td>1</td>\n",
       "      <td>22.682017</td>\n",
       "      <td>-40.234372</td>\n",
       "    </tr>\n",
       "    <tr>\n",
       "      <th>1</th>\n",
       "      <td>Arthur Kill ST 2</td>\n",
       "      <td>23512</td>\n",
       "      <td>J</td>\n",
       "      <td>Steam Turbine</td>\n",
       "      <td>Natural Gas</td>\n",
       "      <td>40.5915</td>\n",
       "      <td>-74.2027</td>\n",
       "      <td>349.0</td>\n",
       "      <td>96.0</td>\n",
       "      <td>2.850000</td>\n",
       "      <td>28.500000</td>\n",
       "      <td>85.50</td>\n",
       "      <td>171.0</td>\n",
       "      <td>0.995837</td>\n",
       "      <td>0.995860</td>\n",
       "      <td>82</td>\n",
       "      <td>1</td>\n",
       "      <td>25.306225</td>\n",
       "      <td>736.980064</td>\n",
       "    </tr>\n",
       "    <tr>\n",
       "      <th>2</th>\n",
       "      <td>Arthur Kill ST 3</td>\n",
       "      <td>23513</td>\n",
       "      <td>J</td>\n",
       "      <td>Steam Turbine</td>\n",
       "      <td>Natural Gas</td>\n",
       "      <td>40.5915</td>\n",
       "      <td>-74.2027</td>\n",
       "      <td>539.0</td>\n",
       "      <td>1.0</td>\n",
       "      <td>3.108333</td>\n",
       "      <td>31.083333</td>\n",
       "      <td>93.25</td>\n",
       "      <td>186.5</td>\n",
       "      <td>0.986235</td>\n",
       "      <td>0.991460</td>\n",
       "      <td>82</td>\n",
       "      <td>1</td>\n",
       "      <td>25.957282</td>\n",
       "      <td>993.894899</td>\n",
       "    </tr>\n",
       "    <tr>\n",
       "      <th>3</th>\n",
       "      <td>Astoria 2</td>\n",
       "      <td>24149</td>\n",
       "      <td>J</td>\n",
       "      <td>Steam Turbine</td>\n",
       "      <td>Natural Gas</td>\n",
       "      <td>40.7869</td>\n",
       "      <td>-73.9122</td>\n",
       "      <td>153.0</td>\n",
       "      <td>1.0</td>\n",
       "      <td>0.808333</td>\n",
       "      <td>8.083333</td>\n",
       "      <td>24.25</td>\n",
       "      <td>48.5</td>\n",
       "      <td>0.987563</td>\n",
       "      <td>0.988910</td>\n",
       "      <td>82</td>\n",
       "      <td>1</td>\n",
       "      <td>31.302863</td>\n",
       "      <td>430.832898</td>\n",
       "    </tr>\n",
       "    <tr>\n",
       "      <th>4</th>\n",
       "      <td>Astoria 3</td>\n",
       "      <td>23516</td>\n",
       "      <td>J</td>\n",
       "      <td>Steam Turbine</td>\n",
       "      <td>Fuel Oil 2</td>\n",
       "      <td>40.7869</td>\n",
       "      <td>-73.9122</td>\n",
       "      <td>756.0</td>\n",
       "      <td>40.0</td>\n",
       "      <td>6.033333</td>\n",
       "      <td>60.333333</td>\n",
       "      <td>181.00</td>\n",
       "      <td>362.0</td>\n",
       "      <td>0.996075</td>\n",
       "      <td>0.996269</td>\n",
       "      <td>82</td>\n",
       "      <td>1</td>\n",
       "      <td>66.084194</td>\n",
       "      <td>3680.943877</td>\n",
       "    </tr>\n",
       "  </tbody>\n",
       "</table>\n",
       "</div>"
      ],
      "text/plain": [
       "          NYISOName   PTID Zone        UnitType     FuelType  Latitude  \\\n",
       "0          Allegany  23514    B  Combined Cycle  Natural Gas   42.5083   \n",
       "1  Arthur Kill ST 2  23512    J   Steam Turbine  Natural Gas   40.5915   \n",
       "2  Arthur Kill ST 3  23513    J   Steam Turbine  Natural Gas   40.5915   \n",
       "3         Astoria 2  24149    J   Steam Turbine  Natural Gas   40.7869   \n",
       "4         Astoria 3  23516    J   Steam Turbine   Fuel Oil 2   40.7869   \n",
       "\n",
       "   Longitude  maxPower  minPower  maxRampAgc  maxRamp10  maxRamp30  maxRamp60  \\\n",
       "0   -78.0661      66.0      11.0    0.733333   7.333333      22.00       44.0   \n",
       "1   -74.2027     349.0      96.0    2.850000  28.500000      85.50      171.0   \n",
       "2   -74.2027     539.0       1.0    3.108333  31.083333      93.25      186.5   \n",
       "3   -73.9122     153.0       1.0    0.808333   8.083333      24.25       48.5   \n",
       "4   -73.9122     756.0      40.0    6.033333  60.333333     181.00      362.0   \n",
       "\n",
       "   HeatRateLM_R2  HeatRateQM_R2  BusName  NCOST     cost_1       cost_0  \n",
       "0       0.862443       0.891407       62      1  22.682017   -40.234372  \n",
       "1       0.995837       0.995860       82      1  25.306225   736.980064  \n",
       "2       0.986235       0.991460       82      1  25.957282   993.894899  \n",
       "3       0.987563       0.988910       82      1  31.302863   430.832898  \n",
       "4       0.996075       0.996269       82      1  66.084194  3680.943877  "
      ]
     },
     "execution_count": 13,
     "metadata": {},
     "output_type": "execute_result"
    }
   ],
   "source": [
    "# Read thermal generator info table\n",
    "filename = os.path.join(datadir, 'genInfo.csv')\n",
    "gen_info = pd.read_csv(filename)\n",
    "gen_info.head()"
   ]
  },
  {
   "cell_type": "code",
   "execution_count": 16,
   "metadata": {},
   "outputs": [
    {
     "data": {
      "text/plain": [
       "Allegany                         66.0\n",
       "Arthur Kill ST 2                349.0\n",
       "Arthur Kill ST 3                539.0\n",
       "Astoria 2                       153.0\n",
       "Astoria 3                        40.0\n",
       "                                ...  \n",
       "Shoreham 1                        0.0\n",
       "Shoreham 2                        0.0\n",
       "South Cairo                       0.0\n",
       "Southold 1                        0.0\n",
       "St. Elizabeth Medical Center      0.6\n",
       "Length: 227, dtype: float64"
      ]
     },
     "execution_count": 16,
     "metadata": {},
     "output_type": "execute_result"
    }
   ],
   "source": [
    "num_thermal = gen_info.shape[0]\n",
    "thermal_pg = results['PG'][:num_thermal]\n",
    "gen_rename = {gen_info.index[i]: gen_info.NYISOName[i] for i in range(num_thermal)}\n",
    "thermal_pg = thermal_pg.rename(index=gen_rename)\n",
    "thermal_pg"
   ]
  },
  {
   "cell_type": "markdown",
   "metadata": {},
   "source": [
    "# Single-period OPF with renewable"
   ]
  },
  {
   "cell_type": "code",
   "execution_count": 18,
   "metadata": {},
   "outputs": [],
   "source": [
    "# Read solar generation data\n",
    "filename = f'solar_{start_time.strftime(\"%Y%m%d\")}_{end_time.strftime(\"%Y%m%d\")}.csv'\n",
    "solar_gen = pd.read_csv(os.path.join(datadir, filename), parse_dates=['TimeStamp'], index_col='TimeStamp')\n",
    "\n"
   ]
  },
  {
   "cell_type": "code",
   "execution_count": 20,
   "metadata": {},
   "outputs": [
    {
     "data": {
      "text/plain": [
       "18"
      ]
     },
     "execution_count": 20,
     "metadata": {},
     "output_type": "execute_result"
    }
   ],
   "source": [
    "# Create solar gen matrix in PyPower format\n",
    "num_solar = solar_gen.shape[1]\n",
    "gen_solar = np.zeros((num_solar, 21))\n",
    "for i in range(num_solar):\n",
    "    gen_solar[i, ]"
   ]
  },
  {
   "cell_type": "code",
   "execution_count": null,
   "metadata": {},
   "outputs": [],
   "source": [
    "# Read wind generation data\n",
    "\n",
    "# Add wind generators\n",
    "\n"
   ]
  }
 ],
 "metadata": {
  "interpreter": {
   "hash": "a48edb53158dd8a459f3e7f13fbcd78db9c99f511fd1a201dbc67d4baa3f7a7a"
  },
  "kernelspec": {
   "display_name": "Python 3.9.7 ('power')",
   "language": "python",
   "name": "python3"
  },
  "language_info": {
   "codemirror_mode": {
    "name": "ipython",
    "version": 3
   },
   "file_extension": ".py",
   "mimetype": "text/x-python",
   "name": "python",
   "nbconvert_exporter": "python",
   "pygments_lexer": "ipython3",
   "version": "3.9.7"
  },
  "orig_nbformat": 4
 },
 "nbformat": 4,
 "nbformat_minor": 2
}
